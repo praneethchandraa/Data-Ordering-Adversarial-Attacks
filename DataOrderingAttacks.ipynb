{
  "cells": [
    {
      "cell_type": "code",
      "execution_count": 1,
      "metadata": {
        "colab": {
          "base_uri": "https://localhost:8080/",
          "height": 1000
        },
        "id": "z83-YyFzzLRP",
        "outputId": "1170c37a-0570-4849-8899-d6492825d785"
      },
      "outputs": [
        {
          "output_type": "stream",
          "name": "stdout",
          "text": [
            "Requirement already satisfied: pytorch-lightning in /usr/local/lib/python3.7/dist-packages (1.6.1)\n",
            "Requirement already satisfied: fsspec[http]!=2021.06.0,>=2021.05.0 in /usr/local/lib/python3.7/dist-packages (from pytorch-lightning) (2022.3.0)\n",
            "Requirement already satisfied: PyYAML>=5.4 in /usr/local/lib/python3.7/dist-packages (from pytorch-lightning) (6.0)\n",
            "Requirement already satisfied: torch>=1.8.* in /usr/local/lib/python3.7/dist-packages (from pytorch-lightning) (1.10.0+cu111)\n",
            "Requirement already satisfied: tensorboard>=2.2.0 in /usr/local/lib/python3.7/dist-packages (from pytorch-lightning) (2.8.0)\n",
            "Requirement already satisfied: tqdm>=4.41.0 in /usr/local/lib/python3.7/dist-packages (from pytorch-lightning) (4.64.0)\n",
            "Requirement already satisfied: torchmetrics>=0.4.1 in /usr/local/lib/python3.7/dist-packages (from pytorch-lightning) (0.8.0)\n",
            "Requirement already satisfied: typing-extensions>=4.0.0 in /usr/local/lib/python3.7/dist-packages (from pytorch-lightning) (4.1.1)\n",
            "Requirement already satisfied: numpy>=1.17.2 in /usr/local/lib/python3.7/dist-packages (from pytorch-lightning) (1.21.6)\n",
            "Requirement already satisfied: pyDeprecate<0.4.0,>=0.3.1 in /usr/local/lib/python3.7/dist-packages (from pytorch-lightning) (0.3.2)\n",
            "Requirement already satisfied: packaging>=17.0 in /usr/local/lib/python3.7/dist-packages (from pytorch-lightning) (21.3)\n",
            "Requirement already satisfied: requests in /usr/local/lib/python3.7/dist-packages (from fsspec[http]!=2021.06.0,>=2021.05.0->pytorch-lightning) (2.23.0)\n",
            "Requirement already satisfied: aiohttp in /usr/local/lib/python3.7/dist-packages (from fsspec[http]!=2021.06.0,>=2021.05.0->pytorch-lightning) (3.8.1)\n",
            "Requirement already satisfied: pyparsing!=3.0.5,>=2.0.2 in /usr/local/lib/python3.7/dist-packages (from packaging>=17.0->pytorch-lightning) (3.0.8)\n",
            "Requirement already satisfied: wheel>=0.26 in /usr/local/lib/python3.7/dist-packages (from tensorboard>=2.2.0->pytorch-lightning) (0.37.1)\n",
            "Requirement already satisfied: grpcio>=1.24.3 in /usr/local/lib/python3.7/dist-packages (from tensorboard>=2.2.0->pytorch-lightning) (1.44.0)\n",
            "Requirement already satisfied: absl-py>=0.4 in /usr/local/lib/python3.7/dist-packages (from tensorboard>=2.2.0->pytorch-lightning) (1.0.0)\n",
            "Requirement already satisfied: google-auth-oauthlib<0.5,>=0.4.1 in /usr/local/lib/python3.7/dist-packages (from tensorboard>=2.2.0->pytorch-lightning) (0.4.6)\n",
            "Requirement already satisfied: tensorboard-data-server<0.7.0,>=0.6.0 in /usr/local/lib/python3.7/dist-packages (from tensorboard>=2.2.0->pytorch-lightning) (0.6.1)\n",
            "Requirement already satisfied: tensorboard-plugin-wit>=1.6.0 in /usr/local/lib/python3.7/dist-packages (from tensorboard>=2.2.0->pytorch-lightning) (1.8.1)\n",
            "Requirement already satisfied: werkzeug>=0.11.15 in /usr/local/lib/python3.7/dist-packages (from tensorboard>=2.2.0->pytorch-lightning) (1.0.1)\n",
            "Requirement already satisfied: protobuf>=3.6.0 in /usr/local/lib/python3.7/dist-packages (from tensorboard>=2.2.0->pytorch-lightning) (3.17.3)\n",
            "Requirement already satisfied: markdown>=2.6.8 in /usr/local/lib/python3.7/dist-packages (from tensorboard>=2.2.0->pytorch-lightning) (3.3.6)\n",
            "Requirement already satisfied: google-auth<3,>=1.6.3 in /usr/local/lib/python3.7/dist-packages (from tensorboard>=2.2.0->pytorch-lightning) (1.35.0)\n",
            "Requirement already satisfied: setuptools>=41.0.0 in /usr/local/lib/python3.7/dist-packages (from tensorboard>=2.2.0->pytorch-lightning) (57.4.0)\n",
            "Requirement already satisfied: six in /usr/local/lib/python3.7/dist-packages (from absl-py>=0.4->tensorboard>=2.2.0->pytorch-lightning) (1.15.0)\n",
            "Requirement already satisfied: cachetools<5.0,>=2.0.0 in /usr/local/lib/python3.7/dist-packages (from google-auth<3,>=1.6.3->tensorboard>=2.2.0->pytorch-lightning) (4.2.4)\n",
            "Requirement already satisfied: rsa<5,>=3.1.4 in /usr/local/lib/python3.7/dist-packages (from google-auth<3,>=1.6.3->tensorboard>=2.2.0->pytorch-lightning) (4.8)\n",
            "Requirement already satisfied: pyasn1-modules>=0.2.1 in /usr/local/lib/python3.7/dist-packages (from google-auth<3,>=1.6.3->tensorboard>=2.2.0->pytorch-lightning) (0.2.8)\n",
            "Requirement already satisfied: requests-oauthlib>=0.7.0 in /usr/local/lib/python3.7/dist-packages (from google-auth-oauthlib<0.5,>=0.4.1->tensorboard>=2.2.0->pytorch-lightning) (1.3.1)\n",
            "Requirement already satisfied: importlib-metadata>=4.4 in /usr/local/lib/python3.7/dist-packages (from markdown>=2.6.8->tensorboard>=2.2.0->pytorch-lightning) (4.11.3)\n",
            "Requirement already satisfied: zipp>=0.5 in /usr/local/lib/python3.7/dist-packages (from importlib-metadata>=4.4->markdown>=2.6.8->tensorboard>=2.2.0->pytorch-lightning) (3.8.0)\n",
            "Requirement already satisfied: pyasn1<0.5.0,>=0.4.6 in /usr/local/lib/python3.7/dist-packages (from pyasn1-modules>=0.2.1->google-auth<3,>=1.6.3->tensorboard>=2.2.0->pytorch-lightning) (0.4.8)\n",
            "Requirement already satisfied: urllib3!=1.25.0,!=1.25.1,<1.26,>=1.21.1 in /usr/local/lib/python3.7/dist-packages (from requests->fsspec[http]!=2021.06.0,>=2021.05.0->pytorch-lightning) (1.24.3)\n",
            "Requirement already satisfied: certifi>=2017.4.17 in /usr/local/lib/python3.7/dist-packages (from requests->fsspec[http]!=2021.06.0,>=2021.05.0->pytorch-lightning) (2021.10.8)\n",
            "Requirement already satisfied: idna<3,>=2.5 in /usr/local/lib/python3.7/dist-packages (from requests->fsspec[http]!=2021.06.0,>=2021.05.0->pytorch-lightning) (2.10)\n",
            "Requirement already satisfied: chardet<4,>=3.0.2 in /usr/local/lib/python3.7/dist-packages (from requests->fsspec[http]!=2021.06.0,>=2021.05.0->pytorch-lightning) (3.0.4)\n",
            "Requirement already satisfied: oauthlib>=3.0.0 in /usr/local/lib/python3.7/dist-packages (from requests-oauthlib>=0.7.0->google-auth-oauthlib<0.5,>=0.4.1->tensorboard>=2.2.0->pytorch-lightning) (3.2.0)\n",
            "Requirement already satisfied: yarl<2.0,>=1.0 in /usr/local/lib/python3.7/dist-packages (from aiohttp->fsspec[http]!=2021.06.0,>=2021.05.0->pytorch-lightning) (1.7.2)\n",
            "Requirement already satisfied: attrs>=17.3.0 in /usr/local/lib/python3.7/dist-packages (from aiohttp->fsspec[http]!=2021.06.0,>=2021.05.0->pytorch-lightning) (21.4.0)\n",
            "Requirement already satisfied: frozenlist>=1.1.1 in /usr/local/lib/python3.7/dist-packages (from aiohttp->fsspec[http]!=2021.06.0,>=2021.05.0->pytorch-lightning) (1.3.0)\n",
            "Requirement already satisfied: multidict<7.0,>=4.5 in /usr/local/lib/python3.7/dist-packages (from aiohttp->fsspec[http]!=2021.06.0,>=2021.05.0->pytorch-lightning) (6.0.2)\n",
            "Requirement already satisfied: aiosignal>=1.1.2 in /usr/local/lib/python3.7/dist-packages (from aiohttp->fsspec[http]!=2021.06.0,>=2021.05.0->pytorch-lightning) (1.2.0)\n",
            "Requirement already satisfied: asynctest==0.13.0 in /usr/local/lib/python3.7/dist-packages (from aiohttp->fsspec[http]!=2021.06.0,>=2021.05.0->pytorch-lightning) (0.13.0)\n",
            "Requirement already satisfied: async-timeout<5.0,>=4.0.0a3 in /usr/local/lib/python3.7/dist-packages (from aiohttp->fsspec[http]!=2021.06.0,>=2021.05.0->pytorch-lightning) (4.0.2)\n",
            "Requirement already satisfied: charset-normalizer<3.0,>=2.0 in /usr/local/lib/python3.7/dist-packages (from aiohttp->fsspec[http]!=2021.06.0,>=2021.05.0->pytorch-lightning) (2.0.12)\n",
            "Requirement already satisfied: wandb in /usr/local/lib/python3.7/dist-packages (0.12.15)\n",
            "Requirement already satisfied: protobuf>=3.12.0 in /usr/local/lib/python3.7/dist-packages (from wandb) (3.17.3)\n",
            "Requirement already satisfied: six>=1.13.0 in /usr/local/lib/python3.7/dist-packages (from wandb) (1.15.0)\n",
            "Requirement already satisfied: psutil>=5.0.0 in /usr/local/lib/python3.7/dist-packages (from wandb) (5.4.8)\n",
            "Requirement already satisfied: python-dateutil>=2.6.1 in /usr/local/lib/python3.7/dist-packages (from wandb) (2.8.2)\n",
            "Requirement already satisfied: GitPython>=1.0.0 in /usr/local/lib/python3.7/dist-packages (from wandb) (3.1.27)\n",
            "Requirement already satisfied: docker-pycreds>=0.4.0 in /usr/local/lib/python3.7/dist-packages (from wandb) (0.4.0)\n",
            "Requirement already satisfied: setproctitle in /usr/local/lib/python3.7/dist-packages (from wandb) (1.2.3)\n",
            "Requirement already satisfied: pathtools in /usr/local/lib/python3.7/dist-packages (from wandb) (0.1.2)\n",
            "Requirement already satisfied: shortuuid>=0.5.0 in /usr/local/lib/python3.7/dist-packages (from wandb) (1.0.8)\n",
            "Requirement already satisfied: promise<3,>=2.0 in /usr/local/lib/python3.7/dist-packages (from wandb) (2.3)\n",
            "Requirement already satisfied: sentry-sdk>=1.0.0 in /usr/local/lib/python3.7/dist-packages (from wandb) (1.5.10)\n",
            "Requirement already satisfied: requests<3,>=2.0.0 in /usr/local/lib/python3.7/dist-packages (from wandb) (2.23.0)\n",
            "Requirement already satisfied: Click!=8.0.0,>=7.0 in /usr/local/lib/python3.7/dist-packages (from wandb) (7.1.2)\n",
            "Requirement already satisfied: PyYAML in /usr/local/lib/python3.7/dist-packages (from wandb) (6.0)\n",
            "Requirement already satisfied: gitdb<5,>=4.0.1 in /usr/local/lib/python3.7/dist-packages (from GitPython>=1.0.0->wandb) (4.0.9)\n",
            "Requirement already satisfied: typing-extensions>=3.7.4.3 in /usr/local/lib/python3.7/dist-packages (from GitPython>=1.0.0->wandb) (4.1.1)\n",
            "Requirement already satisfied: smmap<6,>=3.0.1 in /usr/local/lib/python3.7/dist-packages (from gitdb<5,>=4.0.1->GitPython>=1.0.0->wandb) (5.0.0)\n",
            "Requirement already satisfied: chardet<4,>=3.0.2 in /usr/local/lib/python3.7/dist-packages (from requests<3,>=2.0.0->wandb) (3.0.4)\n",
            "Requirement already satisfied: certifi>=2017.4.17 in /usr/local/lib/python3.7/dist-packages (from requests<3,>=2.0.0->wandb) (2021.10.8)\n",
            "Requirement already satisfied: idna<3,>=2.5 in /usr/local/lib/python3.7/dist-packages (from requests<3,>=2.0.0->wandb) (2.10)\n",
            "Requirement already satisfied: urllib3!=1.25.0,!=1.25.1,<1.26,>=1.21.1 in /usr/local/lib/python3.7/dist-packages (from requests<3,>=2.0.0->wandb) (1.24.3)\n"
          ]
        },
        {
          "output_type": "stream",
          "name": "stderr",
          "text": [
            "\u001b[34m\u001b[1mwandb\u001b[0m: Currently logged in as: \u001b[33msaurav07\u001b[0m (use `wandb login --relogin` to force relogin)\n"
          ]
        },
        {
          "output_type": "display_data",
          "data": {
            "text/plain": [
              "<IPython.core.display.HTML object>"
            ],
            "text/html": [
              "Tracking run with wandb version 0.12.15"
            ]
          },
          "metadata": {}
        },
        {
          "output_type": "display_data",
          "data": {
            "text/plain": [
              "<IPython.core.display.HTML object>"
            ],
            "text/html": [
              "Run data is saved locally in <code>/content/wandb/run-20220425_204148-2vnpdjr1</code>"
            ]
          },
          "metadata": {}
        },
        {
          "output_type": "display_data",
          "data": {
            "text/plain": [
              "<IPython.core.display.HTML object>"
            ],
            "text/html": [
              "Syncing run <strong><a href=\"https://wandb.ai/saurav07/Data-reordering-attacks-test-100epochs-2/runs/2vnpdjr1\" target=\"_blank\">spring-totem-1</a></strong> to <a href=\"https://wandb.ai/saurav07/Data-reordering-attacks-test-100epochs-2\" target=\"_blank\">Weights & Biases</a> (<a href=\"https://wandb.me/run\" target=\"_blank\">docs</a>)<br/>"
            ]
          },
          "metadata": {}
        },
        {
          "output_type": "execute_result",
          "data": {
            "text/html": [
              "<button onClick=\"this.nextSibling.style.display='block';this.style.display='none';\">Display W&B run</button><iframe src=\"https://wandb.ai/saurav07/Data-reordering-attacks-test-100epochs-2/runs/2vnpdjr1?jupyter=true\" style=\"border:none;width:100%;height:420px;display:none;\"></iframe>"
            ],
            "text/plain": [
              "<wandb.sdk.wandb_run.Run at 0x7f855287ca50>"
            ]
          },
          "metadata": {},
          "execution_count": 1
        }
      ],
      "source": [
        "!pip install pytorch-lightning\n",
        "!pip install wandb \n",
        "import wandb\n",
        "\n",
        "wandb.init(project=\"Data-reordering-attacks-test-100epochs-2\", entity=\"saurav07\")"
      ],
      "id": "z83-YyFzzLRP"
    },
    {
      "cell_type": "code",
      "execution_count": 2,
      "metadata": {
        "id": "189b6163-5c42-40f2-9004-a45f99c3842a"
      },
      "outputs": [],
      "source": [
        "import torch\n",
        "import torchvision\n",
        "import torchvision.transforms as transforms\n",
        "import random\n",
        "import torchvision.transforms.functional as TF\n",
        "\n",
        "\n",
        "import pytorch_lightning as pl\n",
        "import torchvision\n",
        "import torch.nn as nn\n",
        "import torch.nn.functional as F\n",
        "\n",
        "from torchmetrics.functional import accuracy\n",
        "from torch.optim import Adam\n",
        "from torch.utils.data import Sampler\n",
        "\n",
        "\n",
        "import numpy as np\n",
        "from sklearn.metrics import classification_report\n",
        "from collections import OrderedDict\n",
        "from typing import Sized, Iterator"
      ],
      "id": "189b6163-5c42-40f2-9004-a45f99c3842a"
    },
    {
      "cell_type": "code",
      "execution_count": 3,
      "metadata": {
        "id": "ae5c8129-3ff1-4885-8a15-135fba0603a7"
      },
      "outputs": [],
      "source": [
        "class Lenet5(nn.Module):\n",
        "    \n",
        "    def __init__(self)->None:\n",
        "        super(Lenet5, self).__init__()\n",
        "        \n",
        "        self.layer1 = nn.Sequential(OrderedDict([\n",
        "            ('conv1', nn.Conv2d(3, 6, kernel_size=(5, 5))),\n",
        "            ('relu1', nn.ReLU()),\n",
        "            ('pool1', nn.MaxPool2d(kernel_size=(2, 2), stride=2))\n",
        "        ]))\n",
        "        \n",
        "        self.layer2 = nn.Sequential(OrderedDict([\n",
        "            ('conv2', nn.Conv2d(6, 16, kernel_size=(5, 5))),\n",
        "            ('relu2', nn.ReLU()),\n",
        "            ('pool2', nn.MaxPool2d(kernel_size=(2, 2), stride=2))\n",
        "        ]))\n",
        "        \n",
        "        self.fc1 = nn.Sequential(OrderedDict([\n",
        "            ('f4', nn.Linear(400, 84)),\n",
        "            ('relu4', nn.ReLU())\n",
        "        ]))\n",
        "        \n",
        "        \n",
        "        self.fc2 = nn.Sequential(OrderedDict([\n",
        "            ('f5', nn.Linear(84, 10)),\n",
        "        ]))\n",
        "\n",
        "        \n",
        "    def forward(self, x):\n",
        "        \n",
        "        x = self.layer1(x)\n",
        "        x = self.layer2(x)\n",
        "        x = x.view(x.shape[0], -1)\n",
        "        \n",
        "        x = self.fc1(x)\n",
        "        x = self.fc2(x)\n",
        "        \n",
        "        return x"
      ],
      "id": "ae5c8129-3ff1-4885-8a15-135fba0603a7"
    },
    {
      "cell_type": "code",
      "execution_count": 4,
      "metadata": {
        "colab": {
          "base_uri": "https://localhost:8080/"
        },
        "id": "9938fe57-3b21-434f-a13b-95ec29cdb26b",
        "outputId": "f5e40df5-4f2e-4157-d7a2-d6a8d14badbe"
      },
      "outputs": [
        {
          "output_type": "execute_result",
          "data": {
            "text/plain": [
              "device(type='cuda')"
            ]
          },
          "metadata": {},
          "execution_count": 4
        }
      ],
      "source": [
        "device = torch.device(\"cuda\") if torch.cuda.is_available() else torch.device(\"cpu\")\n",
        "device"
      ],
      "id": "9938fe57-3b21-434f-a13b-95ec29cdb26b"
    },
    {
      "cell_type": "code",
      "execution_count": 5,
      "metadata": {
        "colab": {
          "base_uri": "https://localhost:8080/"
        },
        "id": "a2b79574-fb44-4f91-8c21-07f47a10d715",
        "outputId": "8467682b-0ae5-4721-9b7d-1103d6f4928f"
      },
      "outputs": [
        {
          "output_type": "execute_result",
          "data": {
            "text/plain": [
              "Lenet5(\n",
              "  (layer1): Sequential(\n",
              "    (conv1): Conv2d(3, 6, kernel_size=(5, 5), stride=(1, 1))\n",
              "    (relu1): ReLU()\n",
              "    (pool1): MaxPool2d(kernel_size=(2, 2), stride=2, padding=0, dilation=1, ceil_mode=False)\n",
              "  )\n",
              "  (layer2): Sequential(\n",
              "    (conv2): Conv2d(6, 16, kernel_size=(5, 5), stride=(1, 1))\n",
              "    (relu2): ReLU()\n",
              "    (pool2): MaxPool2d(kernel_size=(2, 2), stride=2, padding=0, dilation=1, ceil_mode=False)\n",
              "  )\n",
              "  (fc1): Sequential(\n",
              "    (f4): Linear(in_features=400, out_features=84, bias=True)\n",
              "    (relu4): ReLU()\n",
              "  )\n",
              "  (fc2): Sequential(\n",
              "    (f5): Linear(in_features=84, out_features=10, bias=True)\n",
              "  )\n",
              ")"
            ]
          },
          "metadata": {},
          "execution_count": 5
        }
      ],
      "source": [
        "surrogate = Lenet5()\n",
        "surrogate.to(device)"
      ],
      "id": "a2b79574-fb44-4f91-8c21-07f47a10d715"
    },
    {
      "cell_type": "code",
      "execution_count": 15,
      "metadata": {
        "id": "42744789-cf58-48d1-86e7-2889d909d346"
      },
      "outputs": [],
      "source": [
        "class BatchReorderSampler(Sampler[int]):\n",
        "\n",
        "    def __init__(self, data_source: Sized, atk_type=\"lowtohigh\", surrogate= surrogate, batch_size=32) -> None:\n",
        "        self.data_source = data_source\n",
        "        self.surrogate = surrogate\n",
        "\n",
        "        self.epoch1 = True\n",
        "        self.backdoor = False\n",
        "        \n",
        "        self.batchOrder = torch.randperm((len(data_source)//batch_size)*batch_size)\n",
        "        temp = np.array(list(range(self.batchOrder.shape[0])))\n",
        "        self.batchOrder = torch.from_numpy(temp)\n",
        "        self.batchOrder = self.batchOrder.reshape(-1, batch_size)    \n",
        "        print(\"batch = \", self.batchOrder[:5])    \n",
        "        \n",
        "        data = [self.data_source.__getitem__(j) for j in self.batchOrder.view(-1)]\n",
        "        data, labels = zip(*data)\n",
        "        self.data = torch.stack(data).to(device)\n",
        "        self.labels = torch.LongTensor(labels).to(device)\n",
        "        self.atk_type = atk_type\n",
        "     \n",
        "    def __getSurrogateloss__(self, batch):\n",
        "        \n",
        "        with torch.no_grad():\n",
        "            loss = F.nll_loss(self.surrogate(self.data[batch]) ,self.labels[batch])\n",
        "        return loss.cpu().item()\n",
        "    \n",
        "    \n",
        "    def __iter__(self) -> Iterator[int]:\n",
        "        \n",
        "        \n",
        "        if self.epoch1 == True:\n",
        "            print('Waiting to Attack')\n",
        "            for i in range(self.batchOrder.shape[0]):\n",
        "                yield iter(self.batchOrder[i])\n",
        "            self.epoch1 = False\n",
        "        else:\n",
        "\n",
        "            print('Attacking')\n",
        "            print(\"batch order: \", self.batchOrder)\n",
        "            losses = torch.Tensor([self.__getSurrogateloss__(batch) for batch in self.batchOrder])\n",
        "\n",
        "            if self.atk_type == \"lowtohigh\":\n",
        "              for i in torch.argsort(losses):\n",
        "                yield iter(self.batchOrder[i])\n",
        "\n",
        "            elif self.atk_type == \"hightolow\":\n",
        "              for i in torch.argsort(losses, descending=True):\n",
        "                  yield iter(self.batchOrder[i])\n",
        "\n",
        "            elif self.atk_type == \"oscillating in\":\n",
        "              asc_sort_losses = torch.argsort(losses).tolist()\n",
        "              oscillate_inward_sort = []\n",
        "              asc_n = len(asc_sort_losses) - 1\n",
        "              for loss_ind in range(asc_n//2 + 1):\n",
        "                oscillate_inward_sort.append(asc_sort_losses[asc_n - loss_ind])\n",
        "                oscillate_inward_sort.append(asc_sort_losses[loss_ind])\n",
        "              oscillate_inward_sort_tensor = torch.tensor(np.array(oscillate_inward_sort))\n",
        "              for i in oscillate_inward_sort_tensor:\n",
        "                   yield iter(self.batchOrder[i])\n",
        "\n",
        "            elif self.atk_type == \"oscillating out\":\n",
        "              asc_sort_losses = torch.argsort(losses).tolist()\n",
        "              oscillate_outward_sort = []\n",
        "              asc_n = len(asc_sort_losses) - 1\n",
        "              for loss_ind in range(asc_n//2 + 1):\n",
        "                oscillate_outward_sort.append(asc_sort_losses[asc_n - loss_ind])\n",
        "                oscillate_outward_sort.append(asc_sort_losses[loss_ind])\n",
        "              oscillate_outward_sort_tensor = torch.tensor(np.array(oscillate_outward_sort))\n",
        "              oscillate_outward_sort_tensor = torch.flip(oscillate_outward_sort_tensor, [0])\n",
        "              for i in oscillate_outward_sort_tensor:\n",
        "                  yield iter(self.batchOrder[i])\n",
        "            \n",
        "    def __len__(self) -> int:\n",
        "        return self.batchOrder.shape[0]"
      ],
      "id": "42744789-cf58-48d1-86e7-2889d909d346"
    },
    {
      "cell_type": "code",
      "execution_count": 7,
      "metadata": {
        "id": "c27USIuYMxkb"
      },
      "outputs": [],
      "source": [
        "# temp_torch_arr = torch.tensor(np.array([1, 2, 3,4, 5, 6]))\n",
        "# # temp_torch_arr = temp_torch_arr.view(-1, 2)\n",
        "# torch.flip(temp_torch_arr, [0])\n",
        "\n",
        "BATCH_ORDER = None"
      ],
      "id": "c27USIuYMxkb"
    },
    {
      "cell_type": "code",
      "execution_count": 8,
      "metadata": {
        "id": "c569d542-5739-4294-af85-eb33f4f51277"
      },
      "outputs": [],
      "source": [
        "class BatchShuffleSampler(Sampler[int]):\n",
        "\n",
        "    def __init__(self, data_source: Sized,  atk_type=\"lowtohigh\", surrogate=surrogate, batch_size=32) -> None:\n",
        "        self.data_source = data_source\n",
        "        \n",
        "        self.surrogate = surrogate\n",
        "        self.batch_size = batch_size\n",
        "\n",
        "        self.epoch1 = True\n",
        "        self.batchOrder = torch.randperm((len(data_source)//batch_size)*batch_size)\n",
        "        temp = np.array(list(range(self.batchOrder.shape[0])))\n",
        "        self.batchOrder = torch.from_numpy(temp)\n",
        "        print(\"batch order shape = \", self.batchOrder.shape)\n",
        "        print(\"data source length = \", len(data_source))\n",
        "        print(\"batch order = \", self.batchOrder[:10])\n",
        "        \n",
        "        data = [self.data_source.__getitem__(j) for j in self.batchOrder.view(-1)]\n",
        "        data, labels = zip(*data)\n",
        "        self.data = torch.stack(data).to(device)\n",
        "        self.labels = torch.LongTensor(labels).to(device)\n",
        "\n",
        "        self.atk_type = atk_type\n",
        "     \n",
        "    def __getSurrogateloss__(self, batch):\n",
        "        \n",
        "        \n",
        "        with torch.no_grad():\n",
        "            # random_batch_perm = torch.randperm(batch_size)\n",
        "            # data_perm = self.data[random_batch_perm]\n",
        "            # label_perm = self.labels[random_batch_perm]\n",
        "            \n",
        "            loss = F.nll_loss(self.surrogate(self.data[batch: batch+1]) \n",
        "            ,self.labels[batch: batch+1])\n",
        "\n",
        "        return loss.cpu().item()\n",
        "    \n",
        "    \n",
        "    def __iter__(self) -> Iterator[int]:\n",
        "        \n",
        "        if self.epoch1 == True:\n",
        "            print('Waiting to Attack')\n",
        "            print(self.batchOrder.view(-1, self.batch_size)[:2])\n",
        "            for i in self.batchOrder.view(-1, self.batch_size):\n",
        "                yield iter(i)\n",
        "            self.epoch1 = False\n",
        "            \n",
        "        else:\n",
        "            print('Attacking')\n",
        "            print(\"batch order: \",self.batchOrder)\n",
        "\n",
        "            losses = torch.Tensor([self.__getSurrogateloss__(batch) for batch in self.batchOrder])\n",
        "            print(\"printing losses now _______\")\n",
        "            print(losses[:5])\n",
        "            print(torch.argsort(losses)[:5])\n",
        "            print(losses[torch.argsort(losses)[:5]])\n",
        "            print(\"printing losses done _______\")\n",
        "            \n",
        "            if self.atk_type == \"lowtohigh\":\n",
        "              # print(\"low to high running\")\n",
        "              print(self.batchOrder[torch.argsort(losses)].view(-1, self.batch_size)[:2])\n",
        "              for i in self.batchOrder[torch.argsort(losses)].view(-1, self.batch_size):\n",
        "                  yield iter(i)\n",
        "\n",
        "            elif self.atk_type == \"hightolow\":\n",
        "              print(\"high to low running\")\n",
        "              print(self.batchOrder.shape)\n",
        "              print(self.batchOrder[torch.argsort(losses, descending=True)].view(-1, self.batch_size).shape)\n",
        "              for i in self.batchOrder[torch.argsort(losses, descending=True)].view(-1, self.batch_size):\n",
        "                  yield iter(i)\n",
        "\n",
        "            elif self.atk_type == \"oscillating in\":\n",
        "              print(\"oscillating in running\")\n",
        "              \n",
        "              asc_sort_losses = torch.argsort(losses).tolist()\n",
        "\n",
        "              oscillate_inward_sort = []\n",
        "              asc_n = len(asc_sort_losses) - 1\n",
        "              for loss_ind in range(asc_n//2 + 1):\n",
        "                oscillate_inward_sort.append(asc_sort_losses[asc_n - loss_ind])\n",
        "                oscillate_inward_sort.append(asc_sort_losses[loss_ind])\n",
        "              oscillate_inward_sort_tensor = torch.tensor(np.array(oscillate_inward_sort))\n",
        "\n",
        "              for i in self.batchOrder[oscillate_inward_sort_tensor].view(-1, self.batch_size):\n",
        "                  yield iter(i)\n",
        "            \n",
        "            elif self.atk_type == \"oscillating out\":\n",
        "              print(\"oscillating out running\")\n",
        "              asc_sort_losses = torch.argsort(losses).tolist()\n",
        "              oscillate_outward_sort = []\n",
        "              asc_n = len(asc_sort_losses) - 1\n",
        "              for loss_ind in range(asc_n//2 + 1):\n",
        "                oscillate_outward_sort.append(asc_sort_losses[asc_n - loss_ind])\n",
        "                oscillate_outward_sort.append(asc_sort_losses[loss_ind])\n",
        "              oscillate_outward_sort_tensor = torch.tensor(np.array(oscillate_outward_sort))\n",
        "              oscillate_outward_sort_tensor = torch.flip(oscillate_outward_sort_tensor, [0])\n",
        "              for i in self.batchOrder[oscillate_outward_sort_tensor].view(-1, self.batch_size):\n",
        "                  yield iter(i)\n",
        "            \n",
        "            print('Attack successful')\n",
        "        \n",
        "\n",
        "    def __len__(self) -> int:\n",
        "        return self.batchOrder.view(-1, self.batch_size).shape[0]"
      ],
      "id": "c569d542-5739-4294-af85-eb33f4f51277"
    },
    {
      "cell_type": "code",
      "execution_count": 16,
      "metadata": {
        "colab": {
          "base_uri": "https://localhost:8080/"
        },
        "id": "767df0ce-63da-4ed4-843a-478a030bb4b3",
        "outputId": "625d7a21-0521-466c-85fb-35c7555b2b41"
      },
      "outputs": [
        {
          "output_type": "stream",
          "name": "stdout",
          "text": [
            "Files already downloaded and verified\n",
            "batch =  tensor([[  0,   1,   2,   3,   4,   5,   6,   7,   8,   9,  10,  11,  12,  13,\n",
            "          14,  15,  16,  17,  18,  19,  20,  21,  22,  23,  24,  25,  26,  27,\n",
            "          28,  29,  30,  31],\n",
            "        [ 32,  33,  34,  35,  36,  37,  38,  39,  40,  41,  42,  43,  44,  45,\n",
            "          46,  47,  48,  49,  50,  51,  52,  53,  54,  55,  56,  57,  58,  59,\n",
            "          60,  61,  62,  63],\n",
            "        [ 64,  65,  66,  67,  68,  69,  70,  71,  72,  73,  74,  75,  76,  77,\n",
            "          78,  79,  80,  81,  82,  83,  84,  85,  86,  87,  88,  89,  90,  91,\n",
            "          92,  93,  94,  95],\n",
            "        [ 96,  97,  98,  99, 100, 101, 102, 103, 104, 105, 106, 107, 108, 109,\n",
            "         110, 111, 112, 113, 114, 115, 116, 117, 118, 119, 120, 121, 122, 123,\n",
            "         124, 125, 126, 127],\n",
            "        [128, 129, 130, 131, 132, 133, 134, 135, 136, 137, 138, 139, 140, 141,\n",
            "         142, 143, 144, 145, 146, 147, 148, 149, 150, 151, 152, 153, 154, 155,\n",
            "         156, 157, 158, 159]])\n"
          ]
        },
        {
          "output_type": "stream",
          "name": "stderr",
          "text": [
            "/usr/local/lib/python3.7/dist-packages/torch/utils/data/dataloader.py:481: UserWarning: This DataLoader will create 16 worker processes in total. Our suggested max number of worker in current system is 4, which is smaller than what this DataLoader is going to create. Please be aware that excessive worker creation might get DataLoader running slow or even freeze, lower the worker number to avoid potential slowness/freeze if necessary.\n",
            "  cpuset_checked))\n"
          ]
        },
        {
          "output_type": "stream",
          "name": "stdout",
          "text": [
            "Files already downloaded and verified\n"
          ]
        }
      ],
      "source": [
        "test_transform = transforms.Compose(\n",
        "    [transforms.ToTensor(),\n",
        "     transforms.Normalize((0.5, 0.5, 0.5), (0.5, 0.5, 0.5))])\n",
        "\n",
        "train_transform = transforms.Compose(\n",
        "    [\n",
        "     torchvision.transforms.RandomCrop(32, padding=4),\n",
        "#      torchvision.transforms.Resize(),\n",
        "     torchvision.transforms.RandomHorizontalFlip(),\n",
        "     transforms.ToTensor(),\n",
        "     transforms.Normalize((0.5, 0.5, 0.5), (0.5, 0.5, 0.5))])\n",
        "\n",
        "attack_type = [\"lowtohigh\", \"hightolow\", \"oscillating in\", \"oscillating out\"]\n",
        "\n",
        "batch_size = 64\n",
        "\n",
        "trainset = torchvision.datasets.CIFAR10(root='./data', train=True,\n",
        "                                        download=True, transform=train_transform)\n",
        "\n",
        "# trainloader = torch.utils.data.DataLoader(trainset, num_workers=16, \n",
        "#                                           batch_sampler=BatchShuffleSampler(trainset, atk_type=attack_type[0]))\n",
        "trainloader = torch.utils.data.DataLoader(trainset, num_workers=16, \n",
        "                                          batch_sampler=BatchReorderSampler(trainset, atk_type=attack_type[0]))\n",
        "# trainloader = torch.utils.data.DataLoader(trainset, \n",
        "#                                           num_workers=16, batch_sampler=BatchShuffleSampler(trainset, attack_type[3]))\n",
        "\n",
        "\n",
        "testset = torchvision.datasets.CIFAR10(root='./data', train=False,\n",
        "                                       download=True, transform=test_transform)\n",
        "\n",
        "testloader = torch.utils.data.DataLoader(testset, batch_size=batch_size,\n",
        "                                         shuffle=False, num_workers=16)\n",
        "\n",
        "classes = ('plane', 'car', 'bird', 'cat',\n",
        "           'deer', 'dog', 'frog', 'horse', 'ship', 'truck')\n"
      ],
      "id": "767df0ce-63da-4ed4-843a-478a030bb4b3"
    },
    {
      "cell_type": "code",
      "execution_count": 11,
      "metadata": {
        "id": "5f190256-5aa1-4fcd-a786-b0b86d2b7b63"
      },
      "outputs": [],
      "source": [
        "\n",
        "def resnet18CIFAR10():\n",
        "    model = torchvision.models.resnet18(pretrained=False, num_classes=10)\n",
        "    model.conv1 = nn.Conv2d(3, 64, kernel_size=(3, 3), stride=(1, 1), padding=(1, 1), bias=False)\n",
        "    model.maxpool = nn.Identity()\n",
        "    \n",
        "    return model\n",
        "\n",
        "\n",
        "class BoilerPlate(pl.LightningModule):\n",
        "    def __init__(self, train_l, val_l, surrogate) -> None:\n",
        "        super(BoilerPlate, self).__init__()\n",
        "\n",
        "        self.train_l = train_l\n",
        "        self.val_l = val_l\n",
        "        \n",
        "        self.model = resnet18CIFAR10()\n",
        "        \n",
        "        \n",
        "        self.surrogate = surrogate\n",
        "        self.surrogate_optim = Adam([p for p in self.surrogate.parameters() if p.requires_grad], lr=0.1)\n",
        "        \n",
        "\n",
        "    def forward(self, x):\n",
        "        out = self.model(x)\n",
        "        \n",
        "        return F.log_softmax(out, dim=1)\n",
        "\n",
        "    def training_step(self, batch, batch_idx):\n",
        "        x, y = batch\n",
        "        logits = self(x)        \n",
        "        loss = F.nll_loss(logits, y) \n",
        "\n",
        "        wandb.log({\"model loss\":loss})\n",
        "        \n",
        "        self.surrogate_optim.zero_grad()\n",
        "        surrogate_logits = self.surrogate(x)\n",
        "        surrogateloss = F.nll_loss(surrogate_logits, y)\n",
        "        wandb.log({\"surrogate loss\" : surrogateloss})\n",
        "        surrogateloss.backward()\n",
        "        self.surrogate_optim.step()\n",
        "        # print(\"loss = \", loss)\n",
        "        \n",
        "        return loss\n",
        "    \n",
        "\n",
        "    def evaluate(self, batch, stage=None):\n",
        "        x, y = batch\n",
        "        logits = self(x)\n",
        "        loss = F.nll_loss(logits, y)\n",
        "        # self.log('loss', loss.item(), on_step=True)\n",
        "        preds = torch.argmax(logits, dim=1)\n",
        "        acc = accuracy(preds, y)\n",
        "\n",
        "        if stage:\n",
        "            wandb.log({f\"{stage}_acc\" : acc})\n",
        "            wandb.log({f\"{stage}_loss\": loss})\n",
        "            self.log(f\"{stage}_loss\", loss, prog_bar=True, on_step = True)\n",
        "            self.log(f\"{stage}_acc\", acc, prog_bar=True, on_step = True)\n",
        "\n",
        "    def validation_step(self, batch, batch_idx):\n",
        "        self.evaluate(batch, \"val\")\n",
        "\n",
        "    # def validation_epoch_end(self, outputs):\n",
        "    #     avg_loss = torch.stack([x[\"val_loss\"] for x in outputs]).mean()\n",
        "    #     self.logger.experiment.add_scalar('loss',avg_loss, self.current_epoch)\n",
        "\n",
        "\n",
        "\n",
        "    def configure_optimizers(self):\n",
        "        return Adam([p for p in self.model.parameters() if p.requires_grad], lr=0.1)\n",
        "\n",
        "    def train_dataloader(self):\n",
        "        return self.train_l\n",
        "\n",
        "    def val_dataloader(self):\n",
        "        return self.val_l\n",
        "    \n",
        "    # def validation_step(self, batch: Tuple[Tensor, Tensor], _batch_index: int) -> None:\n",
        "    #   inputs_batch, labels_batch = batch\n",
        "\n",
        "    #   outputs_batch = self(inputs_batch)\n",
        "    #   loss = self.criterion(outputs_batch, labels_batch)\n",
        "\n",
        "    #   self.log('loss', loss.item(), on_step=True)"
      ],
      "id": "5f190256-5aa1-4fcd-a786-b0b86d2b7b63"
    },
    {
      "cell_type": "code",
      "execution_count": 17,
      "metadata": {
        "colab": {
          "base_uri": "https://localhost:8080/",
          "height": 743,
          "referenced_widgets": [
            "b982ef90bfb4499b825eaba774fd5bf8",
            "70c0d40cabd644409444689e94f4cfc5",
            "fc4c1a2afaa34885bfd55d1f65e9297c",
            "39afc406c2b04ea88639af81a9a0eb04",
            "e41b1e8da41b40229c67a0fed1d13ee5",
            "00996922a76246e3bb90464fe40aaeef",
            "ce6578212945439f97db3de58f0cccd1",
            "0b535ae12ef84616b0ffc4be880e639c",
            "733d01744c71479ab31894099015e47f",
            "8302dd06340a4e0193b9fe04a88cf55a",
            "a15c08f9dbbf4e2b85db6b6f9d689a0a",
            "ca3659300d564e62a9fe1dddd09d07de",
            "d4acdc9e10a14aa98b3b33a1ae33991a",
            "b46941ed15784835ba2c9e466c088a1e",
            "d389964e015449d3b2ad66421e6da13a",
            "90786a9b83224009917225ebccd25fae",
            "4ab6045147b240f087f39603d834e709",
            "3b51a4ef99f14ada9cc63a797969700a",
            "60f9ad5fe40646ddb09e6e4270aa09d3",
            "0c587d4a56fd4de4a895e433aa785451",
            "cfda325bcad140afb5b5a9914e6ab03b",
            "382c1c69ed5142bdbfb657079e332792",
            "d52112cc0c70462fb94690d981eee659",
            "d900a4989ba74d8bb835f74399cac22c",
            "2a33cd424ce143e5a531a5bbad92a8a9",
            "34ab5f76ee9341449a13994ca136b618",
            "f5bff59b3bdd4f5caacb585218f4bb73",
            "12482d7df8b848649afd5be8d76d028a",
            "71f01d7398904c5fbc23a8caa7104c58",
            "bf9e90ba73aa4069b5158c0994a8d9fc"
          ]
        },
        "id": "6d9512b6-ef39-47fc-b9d2-29c1e8165adc",
        "outputId": "8d661381-80b3-491b-d646-638c3e6a85fb"
      },
      "outputs": [
        {
          "output_type": "display_data",
          "data": {
            "text/plain": [
              "<IPython.core.display.HTML object>"
            ],
            "text/html": [
              "Finishing last run (ID:1d4lwcek) before initializing another..."
            ]
          },
          "metadata": {}
        },
        {
          "output_type": "display_data",
          "data": {
            "text/plain": [
              "<IPython.core.display.HTML object>"
            ],
            "text/html": [
              "Waiting for W&B process to finish... <strong style=\"color:green\">(success).</strong>"
            ]
          },
          "metadata": {}
        },
        {
          "output_type": "display_data",
          "data": {
            "text/plain": [
              "VBox(children=(Label(value='0.001 MB of 0.001 MB uploaded (0.000 MB deduped)\\r'), FloatProgress(value=1.0, max…"
            ],
            "application/vnd.jupyter.widget-view+json": {
              "version_major": 2,
              "version_minor": 0,
              "model_id": "b982ef90bfb4499b825eaba774fd5bf8"
            }
          },
          "metadata": {}
        },
        {
          "output_type": "display_data",
          "data": {
            "text/plain": [
              "<IPython.core.display.HTML object>"
            ],
            "text/html": [
              "<style>\n",
              "    table.wandb td:nth-child(1) { padding: 0 10px; text-align: right }\n",
              "    .wandb-row { display: flex; flex-direction: row; flex-wrap: wrap; width: 100% }\n",
              "    .wandb-col { display: flex; flex-direction: column; flex-basis: 100%; flex: 1; padding: 10px; }\n",
              "    </style>\n",
              "<div class=\"wandb-row\"><div class=\"wandb-col\"><h3>Run history:</h3><br/><table class=\"wandb\"><tr><td>val_acc</td><td>▁█</td></tr><tr><td>val_loss</td><td>▁█</td></tr></table><br/></div><div class=\"wandb-col\"><h3>Run summary:</h3><br/><table class=\"wandb\"><tr><td>val_acc</td><td>0.10938</td></tr><tr><td>val_loss</td><td>2.43612</td></tr></table><br/></div></div>"
            ]
          },
          "metadata": {}
        },
        {
          "output_type": "display_data",
          "data": {
            "text/plain": [
              "<IPython.core.display.HTML object>"
            ],
            "text/html": [
              "Synced <strong style=\"color:#cdcd00\">unique-firefly-10</strong>: <a href=\"https://wandb.ai/saurav07/Data-ordering-attacks-test-100epochs-2/runs/1d4lwcek\" target=\"_blank\">https://wandb.ai/saurav07/Data-ordering-attacks-test-100epochs-2/runs/1d4lwcek</a><br/>Synced 5 W&B file(s), 0 media file(s), 0 artifact file(s) and 0 other file(s)"
            ]
          },
          "metadata": {}
        },
        {
          "output_type": "display_data",
          "data": {
            "text/plain": [
              "<IPython.core.display.HTML object>"
            ],
            "text/html": [
              "Find logs at: <code>./wandb/run-20220425_204501-1d4lwcek/logs</code>"
            ]
          },
          "metadata": {}
        },
        {
          "output_type": "display_data",
          "data": {
            "text/plain": [
              "<IPython.core.display.HTML object>"
            ],
            "text/html": [
              "Successfully finished last run (ID:1d4lwcek). Initializing new run:<br/>"
            ]
          },
          "metadata": {}
        },
        {
          "output_type": "display_data",
          "data": {
            "text/plain": [
              "<IPython.core.display.HTML object>"
            ],
            "text/html": [
              "Tracking run with wandb version 0.12.15"
            ]
          },
          "metadata": {}
        },
        {
          "output_type": "display_data",
          "data": {
            "text/plain": [
              "<IPython.core.display.HTML object>"
            ],
            "text/html": [
              "Run data is saved locally in <code>/content/wandb/run-20220425_211117-1m8w9l15</code>"
            ]
          },
          "metadata": {}
        },
        {
          "output_type": "display_data",
          "data": {
            "text/plain": [
              "<IPython.core.display.HTML object>"
            ],
            "text/html": [
              "Syncing run <strong><a href=\"https://wandb.ai/saurav07/Data-ordering-attacks-test-100epochs-2/runs/1m8w9l15\" target=\"_blank\">polished-dew-11</a></strong> to <a href=\"https://wandb.ai/saurav07/Data-ordering-attacks-test-100epochs-2\" target=\"_blank\">Weights & Biases</a> (<a href=\"https://wandb.me/run\" target=\"_blank\">docs</a>)<br/>"
            ]
          },
          "metadata": {}
        },
        {
          "output_type": "stream",
          "name": "stderr",
          "text": [
            "/usr/local/lib/python3.7/dist-packages/pytorch_lightning/trainer/connectors/callback_connector.py:97: LightningDeprecationWarning: Setting `Trainer(progress_bar_refresh_rate=100)` is deprecated in v1.5 and will be removed in v1.7. Please pass `pytorch_lightning.callbacks.progress.TQDMProgressBar` with `refresh_rate` directly to the Trainer's `callbacks` argument instead. Or, to disable the progress bar pass `enable_progress_bar = False` to the Trainer.\n",
            "  f\"Setting `Trainer(progress_bar_refresh_rate={progress_bar_refresh_rate})` is deprecated in v1.5 and\"\n",
            "GPU available: True, used: True\n",
            "TPU available: False, using: 0 TPU cores\n",
            "IPU available: False, using: 0 IPUs\n",
            "HPU available: False, using: 0 HPUs\n",
            "LOCAL_RANK: 0 - CUDA_VISIBLE_DEVICES: [0]\n",
            "\n",
            "  | Name      | Type   | Params\n",
            "-------------------------------------\n",
            "0 | model     | ResNet | 11.2 M\n",
            "1 | surrogate | Lenet5 | 37.4 K\n",
            "-------------------------------------\n",
            "11.2 M    Trainable params\n",
            "0         Non-trainable params\n",
            "11.2 M    Total params\n",
            "44.845    Total estimated model params size (MB)\n"
          ]
        },
        {
          "output_type": "display_data",
          "data": {
            "text/plain": [
              "Sanity Checking: 0it [00:00, ?it/s]"
            ],
            "application/vnd.jupyter.widget-view+json": {
              "version_major": 2,
              "version_minor": 0,
              "model_id": "733d01744c71479ab31894099015e47f"
            }
          },
          "metadata": {}
        },
        {
          "output_type": "stream",
          "name": "stderr",
          "text": [
            "/usr/local/lib/python3.7/dist-packages/torch/utils/data/dataloader.py:481: UserWarning: This DataLoader will create 16 worker processes in total. Our suggested max number of worker in current system is 4, which is smaller than what this DataLoader is going to create. Please be aware that excessive worker creation might get DataLoader running slow or even freeze, lower the worker number to avoid potential slowness/freeze if necessary.\n",
            "  cpuset_checked))\n"
          ]
        },
        {
          "output_type": "display_data",
          "data": {
            "text/plain": [
              "Training: 0it [00:00, ?it/s]"
            ],
            "application/vnd.jupyter.widget-view+json": {
              "version_major": 2,
              "version_minor": 0,
              "model_id": "0c587d4a56fd4de4a895e433aa785451"
            }
          },
          "metadata": {}
        },
        {
          "output_type": "stream",
          "name": "stdout",
          "text": [
            "Waiting to Attack\n"
          ]
        },
        {
          "output_type": "stream",
          "name": "stderr",
          "text": [
            "/usr/local/lib/python3.7/dist-packages/pytorch_lightning/trainer/trainer.py:724: UserWarning: Detected KeyboardInterrupt, attempting graceful shutdown...\n",
            "  rank_zero_warn(\"Detected KeyboardInterrupt, attempting graceful shutdown...\")\n"
          ]
        }
      ],
      "source": [
        "from pytorch_lightning.loggers import WandbLogger\n",
        "model = BoilerPlate(trainloader, testloader, surrogate)\n",
        "\n",
        "wandb.init(project=\"Data-ordering-attacks-test-100epochs-2\", entity=\"saurav07\")\n",
        "\n",
        "surrogate = Lenet5()\n",
        "# surrogate = resnet18CIFAR10()\n",
        "surrogate.to(device)\n",
        "\n",
        "\n",
        "\n",
        "trainer = pl.Trainer(\n",
        "    progress_bar_refresh_rate=100,\n",
        "    max_epochs=10,\n",
        "    gpus=1,\n",
        "    logger=pl.loggers.TensorBoardLogger(\"lightning_logs/\", name=\"test\"),\n",
        "    # logger = wandb_logger\n",
        ")\n",
        "trainer.fit(model)"
      ],
      "id": "6d9512b6-ef39-47fc-b9d2-29c1e8165adc"
    },
    {
      "cell_type": "code",
      "execution_count": null,
      "metadata": {
        "id": "14ae1058-f93a-4bc8-8623-c7073575bfd4"
      },
      "outputs": [],
      "source": [
        "test_transform = transforms.Compose(\n",
        "    [transforms.ToTensor(),\n",
        "     transforms.Normalize((0.5, 0.5, 0.5), (0.5, 0.5, 0.5))])\n",
        "\n",
        "\n",
        "batch_size = 32\n",
        "testset = torchvision.datasets.CIFAR10(root='./data', train=False,\n",
        "                                       download=True, transform=test_transform)\n",
        "testloader = torch.utils.data.DataLoader(testset, batch_size=batch_size,\n",
        "                                         shuffle=False, num_workers=16)\n",
        "\n",
        "model.to(device)\n",
        "model.eval()\n",
        "preds, labels = [], []\n",
        "for batch in testloader:\n",
        "    x, y = batch\n",
        "    x = x.to(device)\n",
        "    logits = model(x)\n",
        "    y_pred = torch.argmax(logits, dim=1)\n",
        "    \n",
        "    preds.append(y_pred.cpu().numpy())\n",
        "    labels.append(y.cpu().numpy())\n",
        "\n",
        "preds = np.concatenate(preds)\n",
        "labels = np.concatenate(labels)\n",
        "print(classification_report(labels, preds, target_names=classes))"
      ],
      "id": "14ae1058-f93a-4bc8-8623-c7073575bfd4"
    },
    {
      "cell_type": "code",
      "execution_count": null,
      "metadata": {
        "id": "677f8137-539f-4bca-ac30-45e11039efbc"
      },
      "outputs": [],
      "source": [
        ""
      ],
      "id": "677f8137-539f-4bca-ac30-45e11039efbc"
    }
  ],
  "metadata": {
    "accelerator": "GPU",
    "colab": {
      "collapsed_sections": [],
      "machine_shape": "hm",
      "name": "DataOrderingAttacks.ipynb",
      "provenance": []
    },
    "kernelspec": {
      "display_name": "Python 3 (ipykernel)",
      "language": "python",
      "name": "python3"
    },
    "language_info": {
      "codemirror_mode": {
        "name": "ipython",
        "version": 3
      },
      "file_extension": ".py",
      "mimetype": "text/x-python",
      "name": "python",
      "nbconvert_exporter": "python",
      "pygments_lexer": "ipython3",
      "version": "3.9.11"
    },
    "widgets": {
      "application/vnd.jupyter.widget-state+json": {
        "b982ef90bfb4499b825eaba774fd5bf8": {
          "model_module": "@jupyter-widgets/controls",
          "model_name": "VBoxModel",
          "model_module_version": "1.5.0",
          "state": {
            "_dom_classes": [],
            "_model_module": "@jupyter-widgets/controls",
            "_model_module_version": "1.5.0",
            "_model_name": "VBoxModel",
            "_view_count": null,
            "_view_module": "@jupyter-widgets/controls",
            "_view_module_version": "1.5.0",
            "_view_name": "VBoxView",
            "box_style": "",
            "children": [
              "IPY_MODEL_70c0d40cabd644409444689e94f4cfc5",
              "IPY_MODEL_fc4c1a2afaa34885bfd55d1f65e9297c"
            ],
            "layout": "IPY_MODEL_39afc406c2b04ea88639af81a9a0eb04"
          }
        },
        "70c0d40cabd644409444689e94f4cfc5": {
          "model_module": "@jupyter-widgets/controls",
          "model_name": "LabelModel",
          "model_module_version": "1.5.0",
          "state": {
            "_dom_classes": [],
            "_model_module": "@jupyter-widgets/controls",
            "_model_module_version": "1.5.0",
            "_model_name": "LabelModel",
            "_view_count": null,
            "_view_module": "@jupyter-widgets/controls",
            "_view_module_version": "1.5.0",
            "_view_name": "LabelView",
            "description": "",
            "description_tooltip": null,
            "layout": "IPY_MODEL_e41b1e8da41b40229c67a0fed1d13ee5",
            "placeholder": "​",
            "style": "IPY_MODEL_00996922a76246e3bb90464fe40aaeef",
            "value": "0.013 MB of 0.013 MB uploaded (0.000 MB deduped)\r"
          }
        },
        "fc4c1a2afaa34885bfd55d1f65e9297c": {
          "model_module": "@jupyter-widgets/controls",
          "model_name": "FloatProgressModel",
          "model_module_version": "1.5.0",
          "state": {
            "_dom_classes": [],
            "_model_module": "@jupyter-widgets/controls",
            "_model_module_version": "1.5.0",
            "_model_name": "FloatProgressModel",
            "_view_count": null,
            "_view_module": "@jupyter-widgets/controls",
            "_view_module_version": "1.5.0",
            "_view_name": "ProgressView",
            "bar_style": "",
            "description": "",
            "description_tooltip": null,
            "layout": "IPY_MODEL_ce6578212945439f97db3de58f0cccd1",
            "max": 1,
            "min": 0,
            "orientation": "horizontal",
            "style": "IPY_MODEL_0b535ae12ef84616b0ffc4be880e639c",
            "value": 1
          }
        },
        "39afc406c2b04ea88639af81a9a0eb04": {
          "model_module": "@jupyter-widgets/base",
          "model_name": "LayoutModel",
          "model_module_version": "1.2.0",
          "state": {
            "_model_module": "@jupyter-widgets/base",
            "_model_module_version": "1.2.0",
            "_model_name": "LayoutModel",
            "_view_count": null,
            "_view_module": "@jupyter-widgets/base",
            "_view_module_version": "1.2.0",
            "_view_name": "LayoutView",
            "align_content": null,
            "align_items": null,
            "align_self": null,
            "border": null,
            "bottom": null,
            "display": null,
            "flex": null,
            "flex_flow": null,
            "grid_area": null,
            "grid_auto_columns": null,
            "grid_auto_flow": null,
            "grid_auto_rows": null,
            "grid_column": null,
            "grid_gap": null,
            "grid_row": null,
            "grid_template_areas": null,
            "grid_template_columns": null,
            "grid_template_rows": null,
            "height": null,
            "justify_content": null,
            "justify_items": null,
            "left": null,
            "margin": null,
            "max_height": null,
            "max_width": null,
            "min_height": null,
            "min_width": null,
            "object_fit": null,
            "object_position": null,
            "order": null,
            "overflow": null,
            "overflow_x": null,
            "overflow_y": null,
            "padding": null,
            "right": null,
            "top": null,
            "visibility": null,
            "width": null
          }
        },
        "e41b1e8da41b40229c67a0fed1d13ee5": {
          "model_module": "@jupyter-widgets/base",
          "model_name": "LayoutModel",
          "model_module_version": "1.2.0",
          "state": {
            "_model_module": "@jupyter-widgets/base",
            "_model_module_version": "1.2.0",
            "_model_name": "LayoutModel",
            "_view_count": null,
            "_view_module": "@jupyter-widgets/base",
            "_view_module_version": "1.2.0",
            "_view_name": "LayoutView",
            "align_content": null,
            "align_items": null,
            "align_self": null,
            "border": null,
            "bottom": null,
            "display": null,
            "flex": null,
            "flex_flow": null,
            "grid_area": null,
            "grid_auto_columns": null,
            "grid_auto_flow": null,
            "grid_auto_rows": null,
            "grid_column": null,
            "grid_gap": null,
            "grid_row": null,
            "grid_template_areas": null,
            "grid_template_columns": null,
            "grid_template_rows": null,
            "height": null,
            "justify_content": null,
            "justify_items": null,
            "left": null,
            "margin": null,
            "max_height": null,
            "max_width": null,
            "min_height": null,
            "min_width": null,
            "object_fit": null,
            "object_position": null,
            "order": null,
            "overflow": null,
            "overflow_x": null,
            "overflow_y": null,
            "padding": null,
            "right": null,
            "top": null,
            "visibility": null,
            "width": null
          }
        },
        "00996922a76246e3bb90464fe40aaeef": {
          "model_module": "@jupyter-widgets/controls",
          "model_name": "DescriptionStyleModel",
          "model_module_version": "1.5.0",
          "state": {
            "_model_module": "@jupyter-widgets/controls",
            "_model_module_version": "1.5.0",
            "_model_name": "DescriptionStyleModel",
            "_view_count": null,
            "_view_module": "@jupyter-widgets/base",
            "_view_module_version": "1.2.0",
            "_view_name": "StyleView",
            "description_width": ""
          }
        },
        "ce6578212945439f97db3de58f0cccd1": {
          "model_module": "@jupyter-widgets/base",
          "model_name": "LayoutModel",
          "model_module_version": "1.2.0",
          "state": {
            "_model_module": "@jupyter-widgets/base",
            "_model_module_version": "1.2.0",
            "_model_name": "LayoutModel",
            "_view_count": null,
            "_view_module": "@jupyter-widgets/base",
            "_view_module_version": "1.2.0",
            "_view_name": "LayoutView",
            "align_content": null,
            "align_items": null,
            "align_self": null,
            "border": null,
            "bottom": null,
            "display": null,
            "flex": null,
            "flex_flow": null,
            "grid_area": null,
            "grid_auto_columns": null,
            "grid_auto_flow": null,
            "grid_auto_rows": null,
            "grid_column": null,
            "grid_gap": null,
            "grid_row": null,
            "grid_template_areas": null,
            "grid_template_columns": null,
            "grid_template_rows": null,
            "height": null,
            "justify_content": null,
            "justify_items": null,
            "left": null,
            "margin": null,
            "max_height": null,
            "max_width": null,
            "min_height": null,
            "min_width": null,
            "object_fit": null,
            "object_position": null,
            "order": null,
            "overflow": null,
            "overflow_x": null,
            "overflow_y": null,
            "padding": null,
            "right": null,
            "top": null,
            "visibility": null,
            "width": null
          }
        },
        "0b535ae12ef84616b0ffc4be880e639c": {
          "model_module": "@jupyter-widgets/controls",
          "model_name": "ProgressStyleModel",
          "model_module_version": "1.5.0",
          "state": {
            "_model_module": "@jupyter-widgets/controls",
            "_model_module_version": "1.5.0",
            "_model_name": "ProgressStyleModel",
            "_view_count": null,
            "_view_module": "@jupyter-widgets/base",
            "_view_module_version": "1.2.0",
            "_view_name": "StyleView",
            "bar_color": null,
            "description_width": ""
          }
        },
        "733d01744c71479ab31894099015e47f": {
          "model_module": "@jupyter-widgets/controls",
          "model_name": "HBoxModel",
          "model_module_version": "1.5.0",
          "state": {
            "_dom_classes": [],
            "_model_module": "@jupyter-widgets/controls",
            "_model_module_version": "1.5.0",
            "_model_name": "HBoxModel",
            "_view_count": null,
            "_view_module": "@jupyter-widgets/controls",
            "_view_module_version": "1.5.0",
            "_view_name": "HBoxView",
            "box_style": "",
            "children": [
              "IPY_MODEL_8302dd06340a4e0193b9fe04a88cf55a",
              "IPY_MODEL_a15c08f9dbbf4e2b85db6b6f9d689a0a",
              "IPY_MODEL_ca3659300d564e62a9fe1dddd09d07de"
            ],
            "layout": "IPY_MODEL_d4acdc9e10a14aa98b3b33a1ae33991a"
          }
        },
        "8302dd06340a4e0193b9fe04a88cf55a": {
          "model_module": "@jupyter-widgets/controls",
          "model_name": "HTMLModel",
          "model_module_version": "1.5.0",
          "state": {
            "_dom_classes": [],
            "_model_module": "@jupyter-widgets/controls",
            "_model_module_version": "1.5.0",
            "_model_name": "HTMLModel",
            "_view_count": null,
            "_view_module": "@jupyter-widgets/controls",
            "_view_module_version": "1.5.0",
            "_view_name": "HTMLView",
            "description": "",
            "description_tooltip": null,
            "layout": "IPY_MODEL_b46941ed15784835ba2c9e466c088a1e",
            "placeholder": "​",
            "style": "IPY_MODEL_d389964e015449d3b2ad66421e6da13a",
            "value": "Sanity Checking DataLoader 0: 100%"
          }
        },
        "a15c08f9dbbf4e2b85db6b6f9d689a0a": {
          "model_module": "@jupyter-widgets/controls",
          "model_name": "FloatProgressModel",
          "model_module_version": "1.5.0",
          "state": {
            "_dom_classes": [],
            "_model_module": "@jupyter-widgets/controls",
            "_model_module_version": "1.5.0",
            "_model_name": "FloatProgressModel",
            "_view_count": null,
            "_view_module": "@jupyter-widgets/controls",
            "_view_module_version": "1.5.0",
            "_view_name": "ProgressView",
            "bar_style": "info",
            "description": "",
            "description_tooltip": null,
            "layout": "IPY_MODEL_90786a9b83224009917225ebccd25fae",
            "max": 1,
            "min": 0,
            "orientation": "horizontal",
            "style": "IPY_MODEL_4ab6045147b240f087f39603d834e709",
            "value": 1
          }
        },
        "ca3659300d564e62a9fe1dddd09d07de": {
          "model_module": "@jupyter-widgets/controls",
          "model_name": "HTMLModel",
          "model_module_version": "1.5.0",
          "state": {
            "_dom_classes": [],
            "_model_module": "@jupyter-widgets/controls",
            "_model_module_version": "1.5.0",
            "_model_name": "HTMLModel",
            "_view_count": null,
            "_view_module": "@jupyter-widgets/controls",
            "_view_module_version": "1.5.0",
            "_view_name": "HTMLView",
            "description": "",
            "description_tooltip": null,
            "layout": "IPY_MODEL_3b51a4ef99f14ada9cc63a797969700a",
            "placeholder": "​",
            "style": "IPY_MODEL_60f9ad5fe40646ddb09e6e4270aa09d3",
            "value": " 2/2 [00:01&lt;00:00,  1.55it/s]"
          }
        },
        "d4acdc9e10a14aa98b3b33a1ae33991a": {
          "model_module": "@jupyter-widgets/base",
          "model_name": "LayoutModel",
          "model_module_version": "1.2.0",
          "state": {
            "_model_module": "@jupyter-widgets/base",
            "_model_module_version": "1.2.0",
            "_model_name": "LayoutModel",
            "_view_count": null,
            "_view_module": "@jupyter-widgets/base",
            "_view_module_version": "1.2.0",
            "_view_name": "LayoutView",
            "align_content": null,
            "align_items": null,
            "align_self": null,
            "border": null,
            "bottom": null,
            "display": "inline-flex",
            "flex": null,
            "flex_flow": "row wrap",
            "grid_area": null,
            "grid_auto_columns": null,
            "grid_auto_flow": null,
            "grid_auto_rows": null,
            "grid_column": null,
            "grid_gap": null,
            "grid_row": null,
            "grid_template_areas": null,
            "grid_template_columns": null,
            "grid_template_rows": null,
            "height": null,
            "justify_content": null,
            "justify_items": null,
            "left": null,
            "margin": null,
            "max_height": null,
            "max_width": null,
            "min_height": null,
            "min_width": null,
            "object_fit": null,
            "object_position": null,
            "order": null,
            "overflow": null,
            "overflow_x": null,
            "overflow_y": null,
            "padding": null,
            "right": null,
            "top": null,
            "visibility": null,
            "width": "100%"
          }
        },
        "b46941ed15784835ba2c9e466c088a1e": {
          "model_module": "@jupyter-widgets/base",
          "model_name": "LayoutModel",
          "model_module_version": "1.2.0",
          "state": {
            "_model_module": "@jupyter-widgets/base",
            "_model_module_version": "1.2.0",
            "_model_name": "LayoutModel",
            "_view_count": null,
            "_view_module": "@jupyter-widgets/base",
            "_view_module_version": "1.2.0",
            "_view_name": "LayoutView",
            "align_content": null,
            "align_items": null,
            "align_self": null,
            "border": null,
            "bottom": null,
            "display": null,
            "flex": null,
            "flex_flow": null,
            "grid_area": null,
            "grid_auto_columns": null,
            "grid_auto_flow": null,
            "grid_auto_rows": null,
            "grid_column": null,
            "grid_gap": null,
            "grid_row": null,
            "grid_template_areas": null,
            "grid_template_columns": null,
            "grid_template_rows": null,
            "height": null,
            "justify_content": null,
            "justify_items": null,
            "left": null,
            "margin": null,
            "max_height": null,
            "max_width": null,
            "min_height": null,
            "min_width": null,
            "object_fit": null,
            "object_position": null,
            "order": null,
            "overflow": null,
            "overflow_x": null,
            "overflow_y": null,
            "padding": null,
            "right": null,
            "top": null,
            "visibility": null,
            "width": null
          }
        },
        "d389964e015449d3b2ad66421e6da13a": {
          "model_module": "@jupyter-widgets/controls",
          "model_name": "DescriptionStyleModel",
          "model_module_version": "1.5.0",
          "state": {
            "_model_module": "@jupyter-widgets/controls",
            "_model_module_version": "1.5.0",
            "_model_name": "DescriptionStyleModel",
            "_view_count": null,
            "_view_module": "@jupyter-widgets/base",
            "_view_module_version": "1.2.0",
            "_view_name": "StyleView",
            "description_width": ""
          }
        },
        "90786a9b83224009917225ebccd25fae": {
          "model_module": "@jupyter-widgets/base",
          "model_name": "LayoutModel",
          "model_module_version": "1.2.0",
          "state": {
            "_model_module": "@jupyter-widgets/base",
            "_model_module_version": "1.2.0",
            "_model_name": "LayoutModel",
            "_view_count": null,
            "_view_module": "@jupyter-widgets/base",
            "_view_module_version": "1.2.0",
            "_view_name": "LayoutView",
            "align_content": null,
            "align_items": null,
            "align_self": null,
            "border": null,
            "bottom": null,
            "display": null,
            "flex": "2",
            "flex_flow": null,
            "grid_area": null,
            "grid_auto_columns": null,
            "grid_auto_flow": null,
            "grid_auto_rows": null,
            "grid_column": null,
            "grid_gap": null,
            "grid_row": null,
            "grid_template_areas": null,
            "grid_template_columns": null,
            "grid_template_rows": null,
            "height": null,
            "justify_content": null,
            "justify_items": null,
            "left": null,
            "margin": null,
            "max_height": null,
            "max_width": null,
            "min_height": null,
            "min_width": null,
            "object_fit": null,
            "object_position": null,
            "order": null,
            "overflow": null,
            "overflow_x": null,
            "overflow_y": null,
            "padding": null,
            "right": null,
            "top": null,
            "visibility": null,
            "width": null
          }
        },
        "4ab6045147b240f087f39603d834e709": {
          "model_module": "@jupyter-widgets/controls",
          "model_name": "ProgressStyleModel",
          "model_module_version": "1.5.0",
          "state": {
            "_model_module": "@jupyter-widgets/controls",
            "_model_module_version": "1.5.0",
            "_model_name": "ProgressStyleModel",
            "_view_count": null,
            "_view_module": "@jupyter-widgets/base",
            "_view_module_version": "1.2.0",
            "_view_name": "StyleView",
            "bar_color": null,
            "description_width": ""
          }
        },
        "3b51a4ef99f14ada9cc63a797969700a": {
          "model_module": "@jupyter-widgets/base",
          "model_name": "LayoutModel",
          "model_module_version": "1.2.0",
          "state": {
            "_model_module": "@jupyter-widgets/base",
            "_model_module_version": "1.2.0",
            "_model_name": "LayoutModel",
            "_view_count": null,
            "_view_module": "@jupyter-widgets/base",
            "_view_module_version": "1.2.0",
            "_view_name": "LayoutView",
            "align_content": null,
            "align_items": null,
            "align_self": null,
            "border": null,
            "bottom": null,
            "display": null,
            "flex": null,
            "flex_flow": null,
            "grid_area": null,
            "grid_auto_columns": null,
            "grid_auto_flow": null,
            "grid_auto_rows": null,
            "grid_column": null,
            "grid_gap": null,
            "grid_row": null,
            "grid_template_areas": null,
            "grid_template_columns": null,
            "grid_template_rows": null,
            "height": null,
            "justify_content": null,
            "justify_items": null,
            "left": null,
            "margin": null,
            "max_height": null,
            "max_width": null,
            "min_height": null,
            "min_width": null,
            "object_fit": null,
            "object_position": null,
            "order": null,
            "overflow": null,
            "overflow_x": null,
            "overflow_y": null,
            "padding": null,
            "right": null,
            "top": null,
            "visibility": null,
            "width": null
          }
        },
        "60f9ad5fe40646ddb09e6e4270aa09d3": {
          "model_module": "@jupyter-widgets/controls",
          "model_name": "DescriptionStyleModel",
          "model_module_version": "1.5.0",
          "state": {
            "_model_module": "@jupyter-widgets/controls",
            "_model_module_version": "1.5.0",
            "_model_name": "DescriptionStyleModel",
            "_view_count": null,
            "_view_module": "@jupyter-widgets/base",
            "_view_module_version": "1.2.0",
            "_view_name": "StyleView",
            "description_width": ""
          }
        },
        "0c587d4a56fd4de4a895e433aa785451": {
          "model_module": "@jupyter-widgets/controls",
          "model_name": "HBoxModel",
          "model_module_version": "1.5.0",
          "state": {
            "_dom_classes": [],
            "_model_module": "@jupyter-widgets/controls",
            "_model_module_version": "1.5.0",
            "_model_name": "HBoxModel",
            "_view_count": null,
            "_view_module": "@jupyter-widgets/controls",
            "_view_module_version": "1.5.0",
            "_view_name": "HBoxView",
            "box_style": "",
            "children": [
              "IPY_MODEL_cfda325bcad140afb5b5a9914e6ab03b",
              "IPY_MODEL_382c1c69ed5142bdbfb657079e332792",
              "IPY_MODEL_d52112cc0c70462fb94690d981eee659"
            ],
            "layout": "IPY_MODEL_d900a4989ba74d8bb835f74399cac22c"
          }
        },
        "cfda325bcad140afb5b5a9914e6ab03b": {
          "model_module": "@jupyter-widgets/controls",
          "model_name": "HTMLModel",
          "model_module_version": "1.5.0",
          "state": {
            "_dom_classes": [],
            "_model_module": "@jupyter-widgets/controls",
            "_model_module_version": "1.5.0",
            "_model_name": "HTMLModel",
            "_view_count": null,
            "_view_module": "@jupyter-widgets/controls",
            "_view_module_version": "1.5.0",
            "_view_name": "HTMLView",
            "description": "",
            "description_tooltip": null,
            "layout": "IPY_MODEL_2a33cd424ce143e5a531a5bbad92a8a9",
            "placeholder": "​",
            "style": "IPY_MODEL_34ab5f76ee9341449a13994ca136b618",
            "value": "Epoch 0:  17%"
          }
        },
        "382c1c69ed5142bdbfb657079e332792": {
          "model_module": "@jupyter-widgets/controls",
          "model_name": "FloatProgressModel",
          "model_module_version": "1.5.0",
          "state": {
            "_dom_classes": [],
            "_model_module": "@jupyter-widgets/controls",
            "_model_module_version": "1.5.0",
            "_model_name": "FloatProgressModel",
            "_view_count": null,
            "_view_module": "@jupyter-widgets/controls",
            "_view_module_version": "1.5.0",
            "_view_name": "ProgressView",
            "bar_style": "info",
            "description": "",
            "description_tooltip": null,
            "layout": "IPY_MODEL_f5bff59b3bdd4f5caacb585218f4bb73",
            "max": 1,
            "min": 0,
            "orientation": "horizontal",
            "style": "IPY_MODEL_12482d7df8b848649afd5be8d76d028a",
            "value": 1
          }
        },
        "d52112cc0c70462fb94690d981eee659": {
          "model_module": "@jupyter-widgets/controls",
          "model_name": "HTMLModel",
          "model_module_version": "1.5.0",
          "state": {
            "_dom_classes": [],
            "_model_module": "@jupyter-widgets/controls",
            "_model_module_version": "1.5.0",
            "_model_name": "HTMLModel",
            "_view_count": null,
            "_view_module": "@jupyter-widgets/controls",
            "_view_module_version": "1.5.0",
            "_view_name": "HTMLView",
            "description": "",
            "description_tooltip": null,
            "layout": "IPY_MODEL_71f01d7398904c5fbc23a8caa7104c58",
            "placeholder": "​",
            "style": "IPY_MODEL_bf9e90ba73aa4069b5158c0994a8d9fc",
            "value": " 300/1719 [00:10&lt;00:49, 28.56it/s, loss=2.32, v_num=18]"
          }
        },
        "d900a4989ba74d8bb835f74399cac22c": {
          "model_module": "@jupyter-widgets/base",
          "model_name": "LayoutModel",
          "model_module_version": "1.2.0",
          "state": {
            "_model_module": "@jupyter-widgets/base",
            "_model_module_version": "1.2.0",
            "_model_name": "LayoutModel",
            "_view_count": null,
            "_view_module": "@jupyter-widgets/base",
            "_view_module_version": "1.2.0",
            "_view_name": "LayoutView",
            "align_content": null,
            "align_items": null,
            "align_self": null,
            "border": null,
            "bottom": null,
            "display": "inline-flex",
            "flex": null,
            "flex_flow": "row wrap",
            "grid_area": null,
            "grid_auto_columns": null,
            "grid_auto_flow": null,
            "grid_auto_rows": null,
            "grid_column": null,
            "grid_gap": null,
            "grid_row": null,
            "grid_template_areas": null,
            "grid_template_columns": null,
            "grid_template_rows": null,
            "height": null,
            "justify_content": null,
            "justify_items": null,
            "left": null,
            "margin": null,
            "max_height": null,
            "max_width": null,
            "min_height": null,
            "min_width": null,
            "object_fit": null,
            "object_position": null,
            "order": null,
            "overflow": null,
            "overflow_x": null,
            "overflow_y": null,
            "padding": null,
            "right": null,
            "top": null,
            "visibility": null,
            "width": "100%"
          }
        },
        "2a33cd424ce143e5a531a5bbad92a8a9": {
          "model_module": "@jupyter-widgets/base",
          "model_name": "LayoutModel",
          "model_module_version": "1.2.0",
          "state": {
            "_model_module": "@jupyter-widgets/base",
            "_model_module_version": "1.2.0",
            "_model_name": "LayoutModel",
            "_view_count": null,
            "_view_module": "@jupyter-widgets/base",
            "_view_module_version": "1.2.0",
            "_view_name": "LayoutView",
            "align_content": null,
            "align_items": null,
            "align_self": null,
            "border": null,
            "bottom": null,
            "display": null,
            "flex": null,
            "flex_flow": null,
            "grid_area": null,
            "grid_auto_columns": null,
            "grid_auto_flow": null,
            "grid_auto_rows": null,
            "grid_column": null,
            "grid_gap": null,
            "grid_row": null,
            "grid_template_areas": null,
            "grid_template_columns": null,
            "grid_template_rows": null,
            "height": null,
            "justify_content": null,
            "justify_items": null,
            "left": null,
            "margin": null,
            "max_height": null,
            "max_width": null,
            "min_height": null,
            "min_width": null,
            "object_fit": null,
            "object_position": null,
            "order": null,
            "overflow": null,
            "overflow_x": null,
            "overflow_y": null,
            "padding": null,
            "right": null,
            "top": null,
            "visibility": null,
            "width": null
          }
        },
        "34ab5f76ee9341449a13994ca136b618": {
          "model_module": "@jupyter-widgets/controls",
          "model_name": "DescriptionStyleModel",
          "model_module_version": "1.5.0",
          "state": {
            "_model_module": "@jupyter-widgets/controls",
            "_model_module_version": "1.5.0",
            "_model_name": "DescriptionStyleModel",
            "_view_count": null,
            "_view_module": "@jupyter-widgets/base",
            "_view_module_version": "1.2.0",
            "_view_name": "StyleView",
            "description_width": ""
          }
        },
        "f5bff59b3bdd4f5caacb585218f4bb73": {
          "model_module": "@jupyter-widgets/base",
          "model_name": "LayoutModel",
          "model_module_version": "1.2.0",
          "state": {
            "_model_module": "@jupyter-widgets/base",
            "_model_module_version": "1.2.0",
            "_model_name": "LayoutModel",
            "_view_count": null,
            "_view_module": "@jupyter-widgets/base",
            "_view_module_version": "1.2.0",
            "_view_name": "LayoutView",
            "align_content": null,
            "align_items": null,
            "align_self": null,
            "border": null,
            "bottom": null,
            "display": null,
            "flex": "2",
            "flex_flow": null,
            "grid_area": null,
            "grid_auto_columns": null,
            "grid_auto_flow": null,
            "grid_auto_rows": null,
            "grid_column": null,
            "grid_gap": null,
            "grid_row": null,
            "grid_template_areas": null,
            "grid_template_columns": null,
            "grid_template_rows": null,
            "height": null,
            "justify_content": null,
            "justify_items": null,
            "left": null,
            "margin": null,
            "max_height": null,
            "max_width": null,
            "min_height": null,
            "min_width": null,
            "object_fit": null,
            "object_position": null,
            "order": null,
            "overflow": null,
            "overflow_x": null,
            "overflow_y": null,
            "padding": null,
            "right": null,
            "top": null,
            "visibility": null,
            "width": null
          }
        },
        "12482d7df8b848649afd5be8d76d028a": {
          "model_module": "@jupyter-widgets/controls",
          "model_name": "ProgressStyleModel",
          "model_module_version": "1.5.0",
          "state": {
            "_model_module": "@jupyter-widgets/controls",
            "_model_module_version": "1.5.0",
            "_model_name": "ProgressStyleModel",
            "_view_count": null,
            "_view_module": "@jupyter-widgets/base",
            "_view_module_version": "1.2.0",
            "_view_name": "StyleView",
            "bar_color": null,
            "description_width": ""
          }
        },
        "71f01d7398904c5fbc23a8caa7104c58": {
          "model_module": "@jupyter-widgets/base",
          "model_name": "LayoutModel",
          "model_module_version": "1.2.0",
          "state": {
            "_model_module": "@jupyter-widgets/base",
            "_model_module_version": "1.2.0",
            "_model_name": "LayoutModel",
            "_view_count": null,
            "_view_module": "@jupyter-widgets/base",
            "_view_module_version": "1.2.0",
            "_view_name": "LayoutView",
            "align_content": null,
            "align_items": null,
            "align_self": null,
            "border": null,
            "bottom": null,
            "display": null,
            "flex": null,
            "flex_flow": null,
            "grid_area": null,
            "grid_auto_columns": null,
            "grid_auto_flow": null,
            "grid_auto_rows": null,
            "grid_column": null,
            "grid_gap": null,
            "grid_row": null,
            "grid_template_areas": null,
            "grid_template_columns": null,
            "grid_template_rows": null,
            "height": null,
            "justify_content": null,
            "justify_items": null,
            "left": null,
            "margin": null,
            "max_height": null,
            "max_width": null,
            "min_height": null,
            "min_width": null,
            "object_fit": null,
            "object_position": null,
            "order": null,
            "overflow": null,
            "overflow_x": null,
            "overflow_y": null,
            "padding": null,
            "right": null,
            "top": null,
            "visibility": null,
            "width": null
          }
        },
        "bf9e90ba73aa4069b5158c0994a8d9fc": {
          "model_module": "@jupyter-widgets/controls",
          "model_name": "DescriptionStyleModel",
          "model_module_version": "1.5.0",
          "state": {
            "_model_module": "@jupyter-widgets/controls",
            "_model_module_version": "1.5.0",
            "_model_name": "DescriptionStyleModel",
            "_view_count": null,
            "_view_module": "@jupyter-widgets/base",
            "_view_module_version": "1.2.0",
            "_view_name": "StyleView",
            "description_width": ""
          }
        }
      }
    }
  },
  "nbformat": 4,
  "nbformat_minor": 5
}