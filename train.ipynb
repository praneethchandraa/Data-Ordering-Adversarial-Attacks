{
 "cells": [
  {
   "cell_type": "code",
   "execution_count": 1,
   "id": "0c5be030-3a4b-4abb-903b-d3954eec9d6d",
   "metadata": {},
   "outputs": [],
   "source": [
    "import torch\n",
    "import torchvision\n",
    "import torchvision.transforms as transforms\n",
    "import random\n",
    "import torchvision.transforms.functional as TF"
   ]
  },
  {
   "cell_type": "code",
   "execution_count": 2,
   "id": "beef53ba-1e4e-4614-8c52-1f1a94fadd3a",
   "metadata": {},
   "outputs": [],
   "source": [
    "from torch.utils.data.dataloader import default_collate"
   ]
  },
  {
   "cell_type": "code",
   "execution_count": 3,
   "id": "a0c529e6-2458-45a1-ad73-1f1ae2872eb8",
   "metadata": {},
   "outputs": [],
   "source": [
    "def randomSizeCollate(batch):\n",
    "    data, target = zip(*batch)\n",
    "    \n",
    "    size = random.choice((28, 30, 34, 36))\n",
    "    \n",
    "    train_transform = transforms.Compose(\n",
    "    [\n",
    "     torchvision.transforms.RandomCrop(32, padding=4),\n",
    "     torchvision.transforms.Resize(size),\n",
    "     torchvision.transforms.RandomHorizontalFlip(),\n",
    "     transforms.ToTensor(),\n",
    "     transforms.Normalize((0.5, 0.5, 0.5), (0.5, 0.5, 0.5))])\n",
    "\n",
    "    \n",
    "    data = [train_transform(i) for i in data]\n",
    "    \n",
    "    return default_collate(list(zip(data, target)))\n",
    "    "
   ]
  },
  {
   "cell_type": "code",
   "execution_count": 4,
   "id": "430f6de8-ea11-46c3-acde-8037ead92309",
   "metadata": {},
   "outputs": [
    {
     "name": "stdout",
     "output_type": "stream",
     "text": [
      "Downloading https://www.cs.toronto.edu/~kriz/cifar-10-python.tar.gz to ./data/cifar-10-python.tar.gz\n"
     ]
    },
    {
     "data": {
      "application/vnd.jupyter.widget-view+json": {
       "model_id": "a0f914c527044e238dd5a9d3bfcc8448",
       "version_major": 2,
       "version_minor": 0
      },
      "text/plain": [
       "  0%|          | 0/170498071 [00:00<?, ?it/s]"
      ]
     },
     "metadata": {},
     "output_type": "display_data"
    },
    {
     "name": "stdout",
     "output_type": "stream",
     "text": [
      "Extracting ./data/cifar-10-python.tar.gz to ./data\n",
      "Files already downloaded and verified\n"
     ]
    }
   ],
   "source": [
    "test_transform = transforms.Compose(\n",
    "    [transforms.ToTensor(),\n",
    "     transforms.Normalize((0.5, 0.5, 0.5), (0.5, 0.5, 0.5))])\n",
    "\n",
    "train_transform = transforms.Compose(\n",
    "    [\n",
    "     torchvision.transforms.RandomCrop(32, padding=4),\n",
    "#      torchvision.transforms.Resize(),\n",
    "     torchvision.transforms.RandomHorizontalFlip(),\n",
    "     transforms.ToTensor(),\n",
    "     transforms.Normalize((0.5, 0.5, 0.5), (0.5, 0.5, 0.5))])\n",
    "\n",
    "\n",
    "batch_size = 64\n",
    "\n",
    "trainset = torchvision.datasets.CIFAR10(root='./data', train=True,\n",
    "                                        download=True, transform=train_transform)\n",
    "trainloader = torch.utils.data.DataLoader(trainset, batch_size=batch_size,\n",
    "                                          shuffle=True, num_workers=16)#, collate_fn=randomSizeCollate)\n",
    "\n",
    "testset = torchvision.datasets.CIFAR10(root='./data', train=False,\n",
    "                                       download=True, transform=test_transform)\n",
    "testloader = torch.utils.data.DataLoader(testset, batch_size=batch_size,\n",
    "                                         shuffle=False, num_workers=16)\n",
    "\n",
    "classes = ('plane', 'car', 'bird', 'cat',\n",
    "           'deer', 'dog', 'frog', 'horse', 'ship', 'truck')\n"
   ]
  },
  {
   "cell_type": "code",
   "execution_count": 5,
   "id": "e69461ef-20a7-4819-96c0-c01bb38128d7",
   "metadata": {},
   "outputs": [],
   "source": [
    "import torch\n",
    "\n",
    "import torch.nn as nn\n",
    "\n",
    "from torch import Tensor\n",
    "from typing import Type, Any, Callable, Union, List, Optional, Tuple"
   ]
  },
  {
   "cell_type": "code",
   "execution_count": 6,
   "id": "ae8f05f3-fac1-4cc8-8edc-2e849238864f",
   "metadata": {},
   "outputs": [],
   "source": [
    "class ConvNormAct(nn.Module):\n",
    "    \n",
    "    def __init__(self,\n",
    "                 inPlanes: int,\n",
    "                 outPlanes: int,\n",
    "                 kernel: int,\n",
    "                 padding: int = 0,\n",
    "                 dilation: int = 1,\n",
    "                 groups: int = 1\n",
    "                )->None:\n",
    "    \n",
    "        super(ConvNormAct, self).__init__()\n",
    "        \n",
    "        self.conv = nn.Conv2d(inPlanes, outPlanes, kernel,\n",
    "                             padding=padding, dilation=dilation, groups=groups)\n",
    "        self.norm = nn.InstanceNorm2d(outPlanes)\n",
    "        self.act = nn.ELU()\n",
    "        \n",
    "        \n",
    "    def forward(self, x:Tensor)->Tensor:\n",
    "        \n",
    "        x = self.conv(x)\n",
    "        x = self.norm(x)\n",
    "        x = self.act(x)\n",
    "        \n",
    "        return x\n",
    "    \n",
    "class ConvNorm(nn.Module):\n",
    "    \n",
    "    def __init__(self,\n",
    "                 inPlanes: int,\n",
    "                 outPlanes: int,\n",
    "                 kernel: int,\n",
    "                 padding: int = 0,\n",
    "                 dilation: int = 1,\n",
    "                 groups: int = 1\n",
    "                )->None:\n",
    "    \n",
    "        super(ConvNorm, self).__init__()\n",
    "        \n",
    "        self.conv = nn.Conv2d(inPlanes, outPlanes, kernel,\n",
    "                             padding=padding, dilation=dilation, groups=groups)\n",
    "        self.norm = nn.InstanceNorm2d(outPlanes)\n",
    "        \n",
    "        \n",
    "    def forward(self, x:Tensor)->Tensor:\n",
    "        \n",
    "        x = self.conv(x)\n",
    "        x = self.norm(x)\n",
    "        \n",
    "        return x\n",
    "    \n",
    "    \n",
    "    \n",
    "class ConvAttn(nn.Module):\n",
    "    \n",
    "    def __init__(self, \n",
    "                 inplanes: int, \n",
    "                 qdim: int,\n",
    "                 groups: int\n",
    "                )-> None:\n",
    "        \n",
    "        super(ConvAttn, self).__init__()\n",
    "        \n",
    "        self.Q = ConvNorm(inplanes, qdim, 5, dilation=2)\n",
    "        self.K = ConvNorm(inplanes, inplanes, 5, dilation=2, groups=groups) # does padding help?\n",
    "        self.qdim = qdim\n",
    "        \n",
    "        \n",
    "    def forward(self, V:Tensor)->Tensor:\n",
    "        K = self.K(V)\n",
    "        Q = self.Q(V)\n",
    "        \n",
    "        \n",
    "        Q = torch.flatten(Q, 2, 3)\n",
    "        K = torch.flatten(K, 2, 3)\n",
    "        K = torch.transpose(K, 1, 2)\n",
    "        \n",
    "        device = next(self.parameters()).device\n",
    "        sqrt_dK = torch.sqrt(torch.tensor(K.shape[-2], device=device, dtype=torch.float))\n",
    "        \n",
    "        attn = torch.matmul(Q, K)/sqrt_dK\n",
    "        attn = torch.nn.functional.softmax(attn, dim=2)\n",
    "        \n",
    "        vsh = V.shape \n",
    "        V = torch.flatten(V, start_dim=2, end_dim=3)\n",
    "        attn = torch.matmul(attn, V)\n",
    "        \n",
    "        return attn.view(vsh[0], self.qdim, vsh[2], vsh[3])  \n",
    "        \n",
    "\n",
    "class StaticValueAttn(nn.Module):\n",
    "    \n",
    "    def __init__(self,\n",
    "                 nValues: int,\n",
    "                 dimV: int,\n",
    "                )-> None:\n",
    "        \n",
    "        super(StaticValueAttn, self).__init__()\n",
    "        \n",
    "        values = torch.rand(1, nValues, dimV)\n",
    "        self.values = nn.Parameter(values)\n",
    "        self.act = nn.ELU()\n",
    "        \n",
    "        # nn.init.kaiming_normal_(self.values, mode='fan_out')\n",
    "        \n",
    "    \n",
    "    def forward(self,\n",
    "                Q: Tensor,\n",
    "                K: Tensor\n",
    "               )->Tensor:\n",
    "        \n",
    "        Q = torch.flatten(Q, 2, 3)\n",
    "        K = torch.flatten(K, 2, 3)\n",
    "        K = torch.transpose(K, 1, 2)\n",
    "        \n",
    "        device = next(self.parameters()).device\n",
    "        sqrt_dK = torch.sqrt(torch.tensor(K.shape[-2], device=device, dtype=torch.float))\n",
    "        \n",
    "        attn = torch.matmul(Q, K)/sqrt_dK\n",
    "        attn = torch.nn.functional.softmax(attn, dim=2)\n",
    "        attn = torch.matmul(attn, self.values)\n",
    "        \n",
    "        return attn"
   ]
  },
  {
   "cell_type": "code",
   "execution_count": 7,
   "id": "1a5f6efe-d71a-4c9c-8dad-02095a683ced",
   "metadata": {},
   "outputs": [],
   "source": [
    "class RAtNet(nn.Module):\n",
    "    \n",
    "    def __init__(self, \n",
    "                 blocks: List[Tuple[int, int]]\n",
    "                )->None:\n",
    "        super(RAtNet, self).__init__()\n",
    "        \n",
    "        conv = [ConvNormAct(blocks[0][0], blocks[0][1], 5, padding=2)]\n",
    "        attn = []\n",
    "        for block in blocks[1:]:\n",
    "            conv.append(ConvNormAct(block[0], block[1], 5, padding=2))\n",
    "            attn.append(ConvAttn(block[1], block[0], block[1]//4))\n",
    "            \n",
    "        self.conv = nn.ModuleList(conv)\n",
    "        self.attn = nn.ModuleList(attn)\n",
    "        \n",
    "        self.Q = ConvNorm(blocks[-1][0], 1, 5, dilation=2)\n",
    "        self.K = ConvNorm(blocks[-1][0], 128, 5, dilation=2)\n",
    "        \n",
    "        self.valueAttn = StaticValueAttn(128, 128)\n",
    "        self.fc = nn.Linear(128, 10)\n",
    "    \n",
    "        \n",
    "        \n",
    "        \n",
    "    def forward(self, x)->Tensor:\n",
    "        \n",
    "        x = self.conv[0](x)\n",
    "                \n",
    "        for i, conv in enumerate(self.conv[1:]):\n",
    "            x_ = conv(x)\n",
    "            x_ = self.attn[i](x_)\n",
    "            x = x + x_\n",
    "            \n",
    "        Q = self.Q(x)\n",
    "        K = self.K(x)\n",
    "                \n",
    "        fc = self.valueAttn(Q, K)\n",
    "        \n",
    "        fc = torch.squeeze(fc, dim=1)\n",
    "        \n",
    "        return self.fc(fc)\n",
    "    "
   ]
  },
  {
   "cell_type": "code",
   "execution_count": 8,
   "id": "868e6ba5-95d6-433a-b865-09ea8df22af6",
   "metadata": {},
   "outputs": [],
   "source": [
    "from torchvision.models.resnet import *\n",
    "from torchvision.models.resnet import BasicBlock, Bottleneck"
   ]
  },
  {
   "cell_type": "code",
   "execution_count": 9,
   "id": "8faa3eeb-b2ae-42ea-8909-a212347cbb39",
   "metadata": {},
   "outputs": [],
   "source": [
    "class ResAttClass(ResNet):\n",
    "    \n",
    "    def __init__(self, *args, **kwargs)->None:\n",
    "        super(ResAttClass, self).__init__(*args, **kwargs)\n",
    "        \n",
    "        del self.avgpool\n",
    "        del self.fc\n",
    "        \n",
    "        self.Q = ConvNorm(512, 1, 3, padding=1)\n",
    "        self.K = ConvNorm(512, 128, 3, padding=1)\n",
    "        \n",
    "        self.valueAttn = StaticValueAttn(128, 10)\n",
    "        \n",
    "    \n",
    "    def _forward_impl(self, x: Tensor) -> Tensor:\n",
    "        # See note [TorchScript super()]\n",
    "        x = self.conv1(x)\n",
    "        x = self.bn1(x)\n",
    "        x = self.relu(x)\n",
    "        x = self.maxpool(x)\n",
    "\n",
    "        x = self.layer1(x)\n",
    "        x = self.layer2(x)\n",
    "        x = self.layer3(x)\n",
    "        x = self.layer4(x)\n",
    "        \n",
    "        Q = self.Q(x)\n",
    "        K = self.K(x)\n",
    "                \n",
    "        x = self.valueAttn(Q, K)\n",
    "\n",
    "        return torch.sum(x, dim=1)\n",
    "        # return x\n",
    "        "
   ]
  },
  {
   "cell_type": "code",
   "execution_count": 10,
   "id": "0c1b62e8-7797-4a94-97bf-f0d9ac876d46",
   "metadata": {},
   "outputs": [],
   "source": [
    "def _resAttClass(\n",
    "    arch: str,\n",
    "    block: Type[Union[BasicBlock, Bottleneck]],\n",
    "    layers: List[int],\n",
    "    pretrained: bool,\n",
    "    progress: bool,\n",
    "    **kwargs: Any\n",
    ") -> ResNet:\n",
    "    model = ResAttClass(block, layers, **kwargs)\n",
    "    if pretrained:\n",
    "        state_dict = load_state_dict_from_url(model_urls[arch],\n",
    "                                              progress=progress)\n",
    "        model.load_state_dict(state_dict)\n",
    "        \n",
    "    return model"
   ]
  },
  {
   "cell_type": "code",
   "execution_count": 11,
   "id": "73153092-5deb-4391-b365-3019fd3e248d",
   "metadata": {},
   "outputs": [],
   "source": [
    "def resnet18CIFAR10():\n",
    "    model = torchvision.models.resnet18(pretrained=False, num_classes=10)\n",
    "    model.conv1 = nn.Conv2d(3, 64, kernel_size=(3, 3), stride=(1, 1), padding=(1, 1), bias=False)\n",
    "    model.maxpool = nn.Identity()\n",
    "    \n",
    "    return model"
   ]
  },
  {
   "cell_type": "code",
   "execution_count": 12,
   "id": "388e694a-0f03-4a29-a174-8d3f6531e556",
   "metadata": {},
   "outputs": [],
   "source": [
    "import pytorch_lightning as pl\n",
    "import torchvision\n",
    "import torch.nn as nn\n",
    "import torch.nn.functional as F\n",
    "\n",
    "from torchmetrics.functional import accuracy\n",
    "from torch.optim import Adam\n",
    "\n",
    "class BoilerPlate(pl.LightningModule):\n",
    "    def __init__(self, train_l, val_l, blocks) -> None:\n",
    "        super(BoilerPlate, self).__init__()\n",
    "\n",
    "        self.train_l = train_l\n",
    "        self.val_l = val_l\n",
    "        \n",
    "        # self.model = RAtNet(blocks)\n",
    "        \n",
    "        self.model = resnet18CIFAR10()\n",
    "        \n",
    "        # self.model = _resAttClass('resnet18', BasicBlock, [2, 2, 2, 2], pretrained=False, progress=True, num_classes=10)\n",
    "        # self.model.conv1 = nn.Conv2d(3, 64, kernel_size=(3, 3), stride=(1, 1), padding=(1, 1), bias=False)\n",
    "        # self.model.maxpool = nn.Identity()\n",
    "\n",
    "\n",
    "\n",
    "    def forward(self, x):\n",
    "        out = self.model(x)\n",
    "        \n",
    "        return F.log_softmax(out, dim=1)\n",
    "\n",
    "    def training_step(self, batch, batch_idx):\n",
    "        x, y = batch\n",
    "        logits = self(x)\n",
    "        \n",
    "        loss = F.nll_loss(logits, y)\n",
    "        self.log(\"train_loss\", loss)\n",
    "        \n",
    "        return loss\n",
    "\n",
    "    def evaluate(self, batch, stage=None):\n",
    "        x, y = batch\n",
    "        logits = self(x)\n",
    "        loss = F.nll_loss(logits, y)\n",
    "        preds = torch.argmax(logits, dim=1)\n",
    "        acc = accuracy(preds, y)\n",
    "\n",
    "        if stage:\n",
    "            self.log(f\"{stage}_loss\", loss, prog_bar=True)\n",
    "            self.log(f\"{stage}_acc\", acc, prog_bar=True)\n",
    "\n",
    "    def validation_step(self, batch, batch_idx):\n",
    "        self.evaluate(batch, \"val\")\n",
    "\n",
    "\n",
    "    def configure_optimizers(self):\n",
    "        return Adam([p for p in self.parameters() if p.requires_grad], lr=0.02, eps=1e-08)\n",
    "\n",
    "\n",
    "    def train_dataloader(self):\n",
    "        return self.train_l\n",
    "\n",
    "    def val_dataloader(self):\n",
    "        return self.val_l\n",
    "\n",
    "        "
   ]
  },
  {
   "cell_type": "code",
   "execution_count": 13,
   "id": "ed293639-9cbc-479a-934b-f6d7771662de",
   "metadata": {},
   "outputs": [],
   "source": [
    "blocks = [(3, 16), (16, 64), (16, 64), (16, 128), (16, 128)]"
   ]
  },
  {
   "cell_type": "code",
   "execution_count": 14,
   "id": "f626d378-d81d-4043-9219-41abc2f1c198",
   "metadata": {},
   "outputs": [],
   "source": [
    "model = BoilerPlate(trainloader, testloader, blocks)\n",
    "# model = resnet18CIFAR10()"
   ]
  },
  {
   "cell_type": "code",
   "execution_count": 16,
   "id": "44903d3b-750e-4601-b20e-ffb47ede7dd8",
   "metadata": {},
   "outputs": [
    {
     "name": "stderr",
     "output_type": "stream",
     "text": [
      "GPU available: True, used: True\n",
      "TPU available: False, using: 0 TPU cores\n",
      "IPU available: False, using: 0 IPUs\n"
     ]
    }
   ],
   "source": [
    "trainer = pl.Trainer(\n",
    "    progress_bar_refresh_rate=10,\n",
    "    max_epochs=30,\n",
    "    gpus=1,\n",
    "    logger=pl.loggers.TensorBoardLogger(\"lightning_logs/\", name=\"resnet18_cifar10\"),\n",
    ")"
   ]
  },
  {
   "cell_type": "code",
   "execution_count": 17,
   "id": "d8fd63e3-bf14-4cb0-aa2a-3a307bcf1da1",
   "metadata": {},
   "outputs": [
    {
     "name": "stderr",
     "output_type": "stream",
     "text": [
      "LOCAL_RANK: 0 - CUDA_VISIBLE_DEVICES: [2]\n",
      "\n",
      "  | Name  | Type   | Params\n",
      "---------------------------------\n",
      "0 | model | ResNet | 11.2 M\n",
      "---------------------------------\n",
      "11.2 M    Trainable params\n",
      "0         Non-trainable params\n",
      "11.2 M    Total params\n",
      "44.696    Total estimated model params size (MB)\n"
     ]
    },
    {
     "data": {
      "application/vnd.jupyter.widget-view+json": {
       "model_id": "59e0b81712fc4645b9e295614c79d65e",
       "version_major": 2,
       "version_minor": 0
      },
      "text/plain": [
       "Validation sanity check: 0it [00:00, ?it/s]"
      ]
     },
     "metadata": {},
     "output_type": "display_data"
    },
    {
     "data": {
      "application/vnd.jupyter.widget-view+json": {
       "model_id": "08c38d2f690944b58201812d38d0dbdc",
       "version_major": 2,
       "version_minor": 0
      },
      "text/plain": [
       "Training: 0it [00:00, ?it/s]"
      ]
     },
     "metadata": {},
     "output_type": "display_data"
    },
    {
     "data": {
      "application/vnd.jupyter.widget-view+json": {
       "model_id": "",
       "version_major": 2,
       "version_minor": 0
      },
      "text/plain": [
       "Validating: 0it [00:00, ?it/s]"
      ]
     },
     "metadata": {},
     "output_type": "display_data"
    },
    {
     "data": {
      "application/vnd.jupyter.widget-view+json": {
       "model_id": "",
       "version_major": 2,
       "version_minor": 0
      },
      "text/plain": [
       "Validating: 0it [00:00, ?it/s]"
      ]
     },
     "metadata": {},
     "output_type": "display_data"
    },
    {
     "data": {
      "application/vnd.jupyter.widget-view+json": {
       "model_id": "",
       "version_major": 2,
       "version_minor": 0
      },
      "text/plain": [
       "Validating: 0it [00:00, ?it/s]"
      ]
     },
     "metadata": {},
     "output_type": "display_data"
    },
    {
     "data": {
      "application/vnd.jupyter.widget-view+json": {
       "model_id": "",
       "version_major": 2,
       "version_minor": 0
      },
      "text/plain": [
       "Validating: 0it [00:00, ?it/s]"
      ]
     },
     "metadata": {},
     "output_type": "display_data"
    },
    {
     "data": {
      "application/vnd.jupyter.widget-view+json": {
       "model_id": "",
       "version_major": 2,
       "version_minor": 0
      },
      "text/plain": [
       "Validating: 0it [00:00, ?it/s]"
      ]
     },
     "metadata": {},
     "output_type": "display_data"
    },
    {
     "data": {
      "application/vnd.jupyter.widget-view+json": {
       "model_id": "",
       "version_major": 2,
       "version_minor": 0
      },
      "text/plain": [
       "Validating: 0it [00:00, ?it/s]"
      ]
     },
     "metadata": {},
     "output_type": "display_data"
    },
    {
     "data": {
      "application/vnd.jupyter.widget-view+json": {
       "model_id": "",
       "version_major": 2,
       "version_minor": 0
      },
      "text/plain": [
       "Validating: 0it [00:00, ?it/s]"
      ]
     },
     "metadata": {},
     "output_type": "display_data"
    },
    {
     "data": {
      "application/vnd.jupyter.widget-view+json": {
       "model_id": "",
       "version_major": 2,
       "version_minor": 0
      },
      "text/plain": [
       "Validating: 0it [00:00, ?it/s]"
      ]
     },
     "metadata": {},
     "output_type": "display_data"
    },
    {
     "data": {
      "application/vnd.jupyter.widget-view+json": {
       "model_id": "",
       "version_major": 2,
       "version_minor": 0
      },
      "text/plain": [
       "Validating: 0it [00:00, ?it/s]"
      ]
     },
     "metadata": {},
     "output_type": "display_data"
    },
    {
     "data": {
      "application/vnd.jupyter.widget-view+json": {
       "model_id": "",
       "version_major": 2,
       "version_minor": 0
      },
      "text/plain": [
       "Validating: 0it [00:00, ?it/s]"
      ]
     },
     "metadata": {},
     "output_type": "display_data"
    },
    {
     "data": {
      "application/vnd.jupyter.widget-view+json": {
       "model_id": "",
       "version_major": 2,
       "version_minor": 0
      },
      "text/plain": [
       "Validating: 0it [00:00, ?it/s]"
      ]
     },
     "metadata": {},
     "output_type": "display_data"
    },
    {
     "data": {
      "application/vnd.jupyter.widget-view+json": {
       "model_id": "",
       "version_major": 2,
       "version_minor": 0
      },
      "text/plain": [
       "Validating: 0it [00:00, ?it/s]"
      ]
     },
     "metadata": {},
     "output_type": "display_data"
    },
    {
     "data": {
      "application/vnd.jupyter.widget-view+json": {
       "model_id": "",
       "version_major": 2,
       "version_minor": 0
      },
      "text/plain": [
       "Validating: 0it [00:00, ?it/s]"
      ]
     },
     "metadata": {},
     "output_type": "display_data"
    },
    {
     "data": {
      "application/vnd.jupyter.widget-view+json": {
       "model_id": "",
       "version_major": 2,
       "version_minor": 0
      },
      "text/plain": [
       "Validating: 0it [00:00, ?it/s]"
      ]
     },
     "metadata": {},
     "output_type": "display_data"
    },
    {
     "data": {
      "application/vnd.jupyter.widget-view+json": {
       "model_id": "",
       "version_major": 2,
       "version_minor": 0
      },
      "text/plain": [
       "Validating: 0it [00:00, ?it/s]"
      ]
     },
     "metadata": {},
     "output_type": "display_data"
    },
    {
     "data": {
      "application/vnd.jupyter.widget-view+json": {
       "model_id": "",
       "version_major": 2,
       "version_minor": 0
      },
      "text/plain": [
       "Validating: 0it [00:00, ?it/s]"
      ]
     },
     "metadata": {},
     "output_type": "display_data"
    },
    {
     "data": {
      "application/vnd.jupyter.widget-view+json": {
       "model_id": "",
       "version_major": 2,
       "version_minor": 0
      },
      "text/plain": [
       "Validating: 0it [00:00, ?it/s]"
      ]
     },
     "metadata": {},
     "output_type": "display_data"
    },
    {
     "data": {
      "application/vnd.jupyter.widget-view+json": {
       "model_id": "",
       "version_major": 2,
       "version_minor": 0
      },
      "text/plain": [
       "Validating: 0it [00:00, ?it/s]"
      ]
     },
     "metadata": {},
     "output_type": "display_data"
    },
    {
     "data": {
      "application/vnd.jupyter.widget-view+json": {
       "model_id": "",
       "version_major": 2,
       "version_minor": 0
      },
      "text/plain": [
       "Validating: 0it [00:00, ?it/s]"
      ]
     },
     "metadata": {},
     "output_type": "display_data"
    },
    {
     "data": {
      "application/vnd.jupyter.widget-view+json": {
       "model_id": "",
       "version_major": 2,
       "version_minor": 0
      },
      "text/plain": [
       "Validating: 0it [00:00, ?it/s]"
      ]
     },
     "metadata": {},
     "output_type": "display_data"
    },
    {
     "data": {
      "application/vnd.jupyter.widget-view+json": {
       "model_id": "",
       "version_major": 2,
       "version_minor": 0
      },
      "text/plain": [
       "Validating: 0it [00:00, ?it/s]"
      ]
     },
     "metadata": {},
     "output_type": "display_data"
    },
    {
     "data": {
      "application/vnd.jupyter.widget-view+json": {
       "model_id": "",
       "version_major": 2,
       "version_minor": 0
      },
      "text/plain": [
       "Validating: 0it [00:00, ?it/s]"
      ]
     },
     "metadata": {},
     "output_type": "display_data"
    },
    {
     "data": {
      "application/vnd.jupyter.widget-view+json": {
       "model_id": "",
       "version_major": 2,
       "version_minor": 0
      },
      "text/plain": [
       "Validating: 0it [00:00, ?it/s]"
      ]
     },
     "metadata": {},
     "output_type": "display_data"
    },
    {
     "data": {
      "application/vnd.jupyter.widget-view+json": {
       "model_id": "",
       "version_major": 2,
       "version_minor": 0
      },
      "text/plain": [
       "Validating: 0it [00:00, ?it/s]"
      ]
     },
     "metadata": {},
     "output_type": "display_data"
    },
    {
     "data": {
      "application/vnd.jupyter.widget-view+json": {
       "model_id": "",
       "version_major": 2,
       "version_minor": 0
      },
      "text/plain": [
       "Validating: 0it [00:00, ?it/s]"
      ]
     },
     "metadata": {},
     "output_type": "display_data"
    },
    {
     "data": {
      "application/vnd.jupyter.widget-view+json": {
       "model_id": "",
       "version_major": 2,
       "version_minor": 0
      },
      "text/plain": [
       "Validating: 0it [00:00, ?it/s]"
      ]
     },
     "metadata": {},
     "output_type": "display_data"
    },
    {
     "data": {
      "application/vnd.jupyter.widget-view+json": {
       "model_id": "",
       "version_major": 2,
       "version_minor": 0
      },
      "text/plain": [
       "Validating: 0it [00:00, ?it/s]"
      ]
     },
     "metadata": {},
     "output_type": "display_data"
    },
    {
     "data": {
      "application/vnd.jupyter.widget-view+json": {
       "model_id": "",
       "version_major": 2,
       "version_minor": 0
      },
      "text/plain": [
       "Validating: 0it [00:00, ?it/s]"
      ]
     },
     "metadata": {},
     "output_type": "display_data"
    },
    {
     "data": {
      "application/vnd.jupyter.widget-view+json": {
       "model_id": "",
       "version_major": 2,
       "version_minor": 0
      },
      "text/plain": [
       "Validating: 0it [00:00, ?it/s]"
      ]
     },
     "metadata": {},
     "output_type": "display_data"
    },
    {
     "data": {
      "application/vnd.jupyter.widget-view+json": {
       "model_id": "",
       "version_major": 2,
       "version_minor": 0
      },
      "text/plain": [
       "Validating: 0it [00:00, ?it/s]"
      ]
     },
     "metadata": {},
     "output_type": "display_data"
    }
   ],
   "source": [
    "trainer.fit(model)"
   ]
  },
  {
   "cell_type": "code",
   "execution_count": 18,
   "id": "ba651176-28e5-452b-82a2-cfbb38a65ab1",
   "metadata": {},
   "outputs": [
    {
     "name": "stdout",
     "output_type": "stream",
     "text": [
      "Files already downloaded and verified\n",
      "Files already downloaded and verified\n"
     ]
    }
   ],
   "source": [
    "test_transform = transforms.Compose(\n",
    "    [transforms.ToTensor(),\n",
    "     transforms.Normalize((0.5, 0.5, 0.5), (0.5, 0.5, 0.5))])\n",
    "\n",
    "train_transform = transforms.Compose(\n",
    "    [\n",
    "     torchvision.transforms.RandomCrop(32, padding=4),\n",
    "     torchvision.transforms.RandomHorizontalFlip(),\n",
    "     transforms.ToTensor(),\n",
    "     transforms.Normalize((0.5, 0.5, 0.5), (0.5, 0.5, 0.5))])\n",
    "\n",
    "\n",
    "batch_size = 64\n",
    "\n",
    "trainset = torchvision.datasets.CIFAR10(root='./data', train=True,\n",
    "                                        download=True, transform=train_transform)\n",
    "trainloader = torch.utils.data.DataLoader(trainset, batch_size=batch_size,\n",
    "                                          shuffle=True, num_workers=16)\n",
    "\n",
    "testset = torchvision.datasets.CIFAR10(root='./data', train=False,\n",
    "                                       download=True, transform=test_transform)\n",
    "testloader = torch.utils.data.DataLoader(testset, batch_size=batch_size,\n",
    "                                         shuffle=False, num_workers=16)\n",
    "\n",
    "classes = ('plane', 'car', 'bird', 'cat',\n",
    "           'deer', 'dog', 'frog', 'horse', 'ship', 'truck')\n"
   ]
  },
  {
   "cell_type": "code",
   "execution_count": 19,
   "id": "1c450547-e4ea-4fc3-b4f5-95a24ba2b202",
   "metadata": {},
   "outputs": [],
   "source": [
    "import numpy as np\n",
    "from sklearn.metrics import classification_report"
   ]
  },
  {
   "cell_type": "code",
   "execution_count": 20,
   "id": "6df26a7d-42a4-4a43-b752-78709ffee6c8",
   "metadata": {},
   "outputs": [],
   "source": [
    "device = torch.device(\"cuda\") if torch.cuda.is_available() else torch.device(\"cpu\")\n",
    "model.to(device)\n",
    "model.eval()\n",
    "preds, labels = [], []\n",
    "for batch in testloader:\n",
    "    x, y = batch\n",
    "    x = x.to(device)\n",
    "    logits = model(x)\n",
    "    y_pred = torch.argmax(logits, dim=1)\n",
    "    \n",
    "    preds.append(y_pred.cpu().numpy())\n",
    "    labels.append(y.cpu().numpy())"
   ]
  },
  {
   "cell_type": "code",
   "execution_count": 21,
   "id": "c62fef8e-96b0-4142-ab46-181680c3afd5",
   "metadata": {},
   "outputs": [],
   "source": [
    "preds = np.concatenate(preds)\n",
    "labels = np.concatenate(labels)"
   ]
  },
  {
   "cell_type": "code",
   "execution_count": 22,
   "id": "1cdccaac-29f9-45b9-940c-47e46d29012f",
   "metadata": {},
   "outputs": [
    {
     "name": "stdout",
     "output_type": "stream",
     "text": [
      "              precision    recall  f1-score   support\n",
      "\n",
      "       plane       0.90      0.89      0.90      1000\n",
      "         car       0.97      0.94      0.96      1000\n",
      "        bird       0.80      0.90      0.85      1000\n",
      "         cat       0.85      0.73      0.79      1000\n",
      "        deer       0.88      0.90      0.89      1000\n",
      "         dog       0.82      0.87      0.84      1000\n",
      "        frog       0.93      0.91      0.92      1000\n",
      "       horse       0.92      0.91      0.91      1000\n",
      "        ship       0.96      0.92      0.94      1000\n",
      "       truck       0.92      0.96      0.94      1000\n",
      "\n",
      "    accuracy                           0.89     10000\n",
      "   macro avg       0.89      0.89      0.89     10000\n",
      "weighted avg       0.89      0.89      0.89     10000\n",
      "\n"
     ]
    }
   ],
   "source": [
    "print(classification_report(labels, preds, target_names=classes))"
   ]
  },
  {
   "cell_type": "code",
   "execution_count": null,
   "id": "189b6163-5c42-40f2-9004-a45f99c3842a",
   "metadata": {},
   "outputs": [],
   "source": []
  }
 ],
 "metadata": {
  "kernelspec": {
   "display_name": "Python 3 (ipykernel)",
   "language": "python",
   "name": "python3"
  },
  "language_info": {
   "codemirror_mode": {
    "name": "ipython",
    "version": 3
   },
   "file_extension": ".py",
   "mimetype": "text/x-python",
   "name": "python",
   "nbconvert_exporter": "python",
   "pygments_lexer": "ipython3",
   "version": "3.9.7"
  }
 },
 "nbformat": 4,
 "nbformat_minor": 5
}
